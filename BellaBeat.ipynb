{
 "cells": [
  {
   "cell_type": "markdown",
   "metadata": {},
   "source": [
    "# BellaBeat - Unlock new business growth opportunity\n"
   ]
  },
  {
   "cell_type": "markdown",
   "metadata": {},
   "source": [
    "## Background & Business Question\n",
    "### 1. Background\n",
    "BellaBeat, a high-tech company that manufactures health-focused smart products, has grown rapidly and quickly positioned itself as a tech-driven wellness company for women since its foundation in 2013. BellaBeat has been focusing on ditigal marketing such as Google Search, Facebook and Instagram pages, and Twitter.\n",
    "Now, BellaBeat would like to deep dive into smart device usage data hoping to reveal more business growth opportunities and get high-level recommendations for their marketing strategy.\n",
    "\n",
    "### 1.1. Business Task\n",
    "This study seeks to answer the question - how consumers use non-Bellabeat smart devices?\n",
    "\n",
    "### 1.2. Questions for the analysis\n",
    "1. What are some trends in smart device usage? <br>\n",
    "2. How could these trends apply to BellaBeat customers? <br>\n",
    "3. How could these trends help influence BellaBeat marketing strategy?\n",
    "\n",
    "\n"
   ]
  },
  {
   "cell_type": "markdown",
   "metadata": {},
   "source": [
    "## 2. Data Preparation\n",
    "### 2.1. Source Data\n",
    "Data set that will be used for this study is: <br>\n",
    "[FitBit Fitness Tracker Data](https://www.kaggle.com/datasets/arashnic/fitbit) (CC0: Public Domain, dataset made available through [Mobius](https://www.kaggle.com/arashnic)).<br>\n",
    "This Kaggle data set contains personal fitness tracker from thirty fitbit users. Thirty eligible Fitbit users consented to the submission of personal tracker data, including minute-level output for physical activity, heart rate, and sleep monitoring, It includes information about daily activity, steps, and heart rate that can be used to explore users' habits.\n"
   ]
  },
  {
   "cell_type": "markdown",
   "metadata": {},
   "source": [
    "### 2.2. Import Data\n",
    "\n",
    "If you do not have kagglehub packages install, download it using below code.\n",
    "\n",
    "``` python\n",
    "pip install kagglehub\n",
    "```"
   ]
  },
  {
   "cell_type": "markdown",
   "metadata": {},
   "source": [
    "After, download the data set.\n",
    "``` python\n",
    "import kagglehub\n",
    "\n",
    "# Download latest version\n",
    "path = kagglehub.dataset_download(\"arashnic/fitbit\")\n",
    "\n",
    "print(\"Path to dataset files:\", path)\n",
    "```"
   ]
  },
  {
   "cell_type": "markdown",
   "metadata": {},
   "source": [
    "**The files have been loaded into the specified path.** <br>\n",
    "There are two separate folders corresponding to different time periods, each containing 18 files. Since the timeline across both folders is continuous,  files in both folders will be used for the analysis.\n",
    "\n",
    "Each dataset is being opened in Python for further examination.\n",
    "To determine the most appropriate datasets for analysis, all files will be loaded initially."
   ]
  },
  {
   "cell_type": "code",
   "execution_count": 1,
   "metadata": {},
   "outputs": [],
   "source": [
    "import pandas as pd\n",
    "import os as os\n",
    "\n",
    "path = \"C:\\\\Users\\\\dayeo\\\\.cache\\\\kagglehub\\\\datasets\\\\arashnic\\\\fitbit\\\\versions\\\\2\"\n",
    "path_1 = path + '\\\\mturkfitbit_export_3.12.16-4.11.16\\\\Fitabase Data 3.12.16-4.11.16\\\\'\n",
    "path_2 = path + '\\\\mturkfitbit_export_4.12.16-5.12.16\\\\Fitabase Data 4.12.16-5.12.16\\\\'\n",
    "\n",
    "folders = [path_1, path_2]\n",
    "\n",
    "# Dictionary to stroe DataFrames\n",
    "dataframes = {}\n",
    "\n",
    "# Loop through each folder \n",
    "for folder in folders:\n",
    "    for filename in os.listdir(folder):\n",
    "        # get file name by removing trailing _merged.csv\n",
    "        base_name = filename.replace('_merged.csv', '')\n",
    "        \n",
    "        # Full path to the file\n",
    "        file_path = os.path.join(folder, filename)\n",
    "        \n",
    "        # Read the CSV into a Dataframe\n",
    "        df = pd.read_csv(file_path)\n",
    "        \n",
    "        # If a dataframe exists with the same name, concatename two dataframes\n",
    "        if base_name in dataframes:\n",
    "            dataframes[base_name] = pd.concat([dataframes[base_name], df], ignore_index=True)\n",
    "        # If not, add the df to the dataframe\n",
    "        else: dataframes[base_name] = df\n",
    "            \n",
    "            "
   ]
  },
  {
   "cell_type": "code",
   "execution_count": 2,
   "metadata": {},
   "outputs": [
    {
     "name": "stdout",
     "output_type": "stream",
     "text": [
      "----Data: dailyActivity----\n",
      "number of users:  35\n",
      "           Id ActivityDate  TotalSteps  TotalDistance  TrackerDistance  \\\n",
      "0  1503960366    3/25/2016       11004           7.11             7.11   \n",
      "1  1503960366    3/26/2016       17609          11.55            11.55   \n",
      "2  1503960366    3/27/2016       12736           8.53             8.53   \n",
      "3  1503960366    3/28/2016       13231           8.93             8.93   \n",
      "\n",
      "   LoggedActivitiesDistance  VeryActiveDistance  ModeratelyActiveDistance  \\\n",
      "0                       0.0                2.57                      0.46   \n",
      "1                       0.0                6.92                      0.73   \n",
      "2                       0.0                4.66                      0.16   \n",
      "3                       0.0                3.19                      0.79   \n",
      "\n",
      "   LightActiveDistance  SedentaryActiveDistance  VeryActiveMinutes  \\\n",
      "0                 4.07                      0.0                 33   \n",
      "1                 3.91                      0.0                 89   \n",
      "2                 3.71                      0.0                 56   \n",
      "3                 4.95                      0.0                 39   \n",
      "\n",
      "   FairlyActiveMinutes  LightlyActiveMinutes  SedentaryMinutes  Calories  \n",
      "0                   12                   205               804      1819  \n",
      "1                   17                   274               588      2154  \n",
      "2                    5                   268               605      1944  \n",
      "3                   20                   224              1080      1932  \n",
      "----Data: heartrate_seconds----\n",
      "number of users:  15\n",
      "           Id                 Time  Value\n",
      "0  2022484408  4/1/2016 7:54:00 AM     93\n",
      "1  2022484408  4/1/2016 7:54:05 AM     91\n",
      "2  2022484408  4/1/2016 7:54:10 AM     96\n",
      "3  2022484408  4/1/2016 7:54:15 AM     98\n",
      "----Data: hourlyCalories----\n",
      "number of users:  35\n",
      "           Id           ActivityHour  Calories\n",
      "0  1503960366  3/12/2016 12:00:00 AM        48\n",
      "1  1503960366   3/12/2016 1:00:00 AM        48\n",
      "2  1503960366   3/12/2016 2:00:00 AM        48\n",
      "3  1503960366   3/12/2016 3:00:00 AM        48\n",
      "----Data: hourlyIntensities----\n",
      "number of users:  35\n",
      "           Id           ActivityHour  TotalIntensity  AverageIntensity\n",
      "0  1503960366  3/12/2016 12:00:00 AM               0               0.0\n",
      "1  1503960366   3/12/2016 1:00:00 AM               0               0.0\n",
      "2  1503960366   3/12/2016 2:00:00 AM               0               0.0\n",
      "3  1503960366   3/12/2016 3:00:00 AM               0               0.0\n",
      "----Data: hourlySteps----\n",
      "number of users:  35\n",
      "           Id           ActivityHour  StepTotal\n",
      "0  1503960366  3/12/2016 12:00:00 AM          0\n",
      "1  1503960366   3/12/2016 1:00:00 AM          0\n",
      "2  1503960366   3/12/2016 2:00:00 AM          0\n",
      "3  1503960366   3/12/2016 3:00:00 AM          0\n",
      "----Data: minuteCaloriesNarrow----\n",
      "number of users:  35\n",
      "           Id         ActivityMinute  Calories\n",
      "0  1503960366  3/12/2016 12:00:00 AM    0.7973\n",
      "1  1503960366  3/12/2016 12:01:00 AM    0.7973\n",
      "2  1503960366  3/12/2016 12:02:00 AM    0.7973\n",
      "3  1503960366  3/12/2016 12:03:00 AM    0.7973\n",
      "----Data: minuteIntensitiesNarrow----\n",
      "number of users:  35\n",
      "           Id         ActivityMinute  Intensity\n",
      "0  1503960366  3/12/2016 12:00:00 AM          0\n",
      "1  1503960366  3/12/2016 12:01:00 AM          0\n",
      "2  1503960366  3/12/2016 12:02:00 AM          0\n",
      "3  1503960366  3/12/2016 12:03:00 AM          0\n",
      "----Data: minuteMETsNarrow----\n",
      "number of users:  35\n",
      "           Id         ActivityMinute  METs\n",
      "0  1503960366  3/12/2016 12:00:00 AM    10\n",
      "1  1503960366  3/12/2016 12:01:00 AM    10\n",
      "2  1503960366  3/12/2016 12:02:00 AM    10\n",
      "3  1503960366  3/12/2016 12:03:00 AM    10\n",
      "----Data: minuteSleep----\n",
      "number of users:  25\n",
      "           Id                  date  value        logId\n",
      "0  1503960366  3/13/2016 2:39:30 AM      1  11114919637\n",
      "1  1503960366  3/13/2016 2:40:30 AM      1  11114919637\n",
      "2  1503960366  3/13/2016 2:41:30 AM      1  11114919637\n",
      "3  1503960366  3/13/2016 2:42:30 AM      1  11114919637\n",
      "----Data: minuteStepsNarrow----\n",
      "number of users:  35\n",
      "           Id         ActivityMinute  Steps\n",
      "0  1503960366  3/12/2016 12:00:00 AM      0\n",
      "1  1503960366  3/12/2016 12:01:00 AM      0\n",
      "2  1503960366  3/12/2016 12:02:00 AM      0\n",
      "3  1503960366  3/12/2016 12:03:00 AM      0\n",
      "----Data: weightLogInfo----\n",
      "number of users:  13\n",
      "           Id                  Date    WeightKg  WeightPounds   Fat  \\\n",
      "0  1503960366  4/5/2016 11:59:59 PM   53.299999    117.506384  22.0   \n",
      "1  1927972279  4/10/2016 6:33:26 PM  129.600006    285.719105   NaN   \n",
      "2  2347167796  4/3/2016 11:59:59 PM   63.400002    139.773078  10.0   \n",
      "3  2873212765  4/6/2016 11:59:59 PM   56.700001    125.002104   NaN   \n",
      "\n",
      "         BMI  IsManualReport          LogId  \n",
      "0  22.969999            True  1459900799000  \n",
      "1  46.169998           False  1460313206000  \n",
      "2  24.770000            True  1459727999000  \n",
      "3  21.450001            True  1459987199000  \n",
      "----Data: dailyCalories----\n",
      "number of users:  33\n",
      "           Id ActivityDay  Calories\n",
      "0  1503960366   4/12/2016      1985\n",
      "1  1503960366   4/13/2016      1797\n",
      "2  1503960366   4/14/2016      1776\n",
      "3  1503960366   4/15/2016      1745\n",
      "----Data: dailyIntensities----\n",
      "number of users:  33\n",
      "           Id ActivityDay  SedentaryMinutes  LightlyActiveMinutes  \\\n",
      "0  1503960366   4/12/2016               728                   328   \n",
      "1  1503960366   4/13/2016               776                   217   \n",
      "2  1503960366   4/14/2016              1218                   181   \n",
      "3  1503960366   4/15/2016               726                   209   \n",
      "\n",
      "   FairlyActiveMinutes  VeryActiveMinutes  SedentaryActiveDistance  \\\n",
      "0                   13                 25                      0.0   \n",
      "1                   19                 21                      0.0   \n",
      "2                   11                 30                      0.0   \n",
      "3                   34                 29                      0.0   \n",
      "\n",
      "   LightActiveDistance  ModeratelyActiveDistance  VeryActiveDistance  \n",
      "0                 6.06                      0.55                1.88  \n",
      "1                 4.71                      0.69                1.57  \n",
      "2                 3.91                      0.40                2.44  \n",
      "3                 2.83                      1.26                2.14  \n",
      "----Data: dailySteps----\n",
      "number of users:  33\n",
      "           Id ActivityDay  StepTotal\n",
      "0  1503960366   4/12/2016      13162\n",
      "1  1503960366   4/13/2016      10735\n",
      "2  1503960366   4/14/2016      10460\n",
      "3  1503960366   4/15/2016       9762\n",
      "----Data: minuteCaloriesWide----\n",
      "number of users:  33\n",
      "           Id           ActivityHour  Calories00  Calories01  Calories02  \\\n",
      "0  1503960366  4/13/2016 12:00:00 AM      1.8876      2.2022      0.9438   \n",
      "1  1503960366   4/13/2016 1:00:00 AM      0.7865      0.7865      0.7865   \n",
      "2  1503960366   4/13/2016 2:00:00 AM      0.7865      0.7865      0.7865   \n",
      "3  1503960366   4/13/2016 3:00:00 AM      0.7865      0.7865      0.7865   \n",
      "\n",
      "   Calories03  Calories04  Calories05  Calories06  Calories07  ...  \\\n",
      "0      0.9438      0.9438      2.0449      0.9438      2.2022  ...   \n",
      "1      0.7865      0.9438      0.9438      0.9438      0.7865  ...   \n",
      "2      0.7865      0.7865      0.7865      0.7865      0.7865  ...   \n",
      "3      0.7865      0.7865      0.7865      0.7865      0.7865  ...   \n",
      "\n",
      "   Calories50  Calories51  Calories52  Calories53  Calories54  Calories55  \\\n",
      "0      0.9438      2.0449      2.0449      0.9438      2.3595      1.8876   \n",
      "1      0.7865      0.7865      0.7865      0.7865      0.7865      0.7865   \n",
      "2      0.7865      0.7865      0.7865      0.7865      0.7865      0.7865   \n",
      "3      0.7865      0.7865      0.7865      0.7865      0.7865      0.7865   \n",
      "\n",
      "   Calories56  Calories57  Calories58  Calories59  \n",
      "0      0.9438      0.9438      0.9438      0.9438  \n",
      "1      0.7865      0.7865      0.7865      0.7865  \n",
      "2      0.7865      0.7865      0.7865      0.7865  \n",
      "3      0.7865      0.7865      0.7865      0.7865  \n",
      "\n",
      "[4 rows x 62 columns]\n",
      "----Data: minuteIntensitiesWide----\n",
      "number of users:  33\n",
      "           Id           ActivityHour  Intensity00  Intensity01  Intensity02  \\\n",
      "0  1503960366  4/13/2016 12:00:00 AM            1            1            0   \n",
      "1  1503960366   4/13/2016 1:00:00 AM            0            0            0   \n",
      "2  1503960366   4/13/2016 2:00:00 AM            0            0            0   \n",
      "3  1503960366   4/13/2016 3:00:00 AM            0            0            0   \n",
      "\n",
      "   Intensity03  Intensity04  Intensity05  Intensity06  Intensity07  ...  \\\n",
      "0            0            0            1            0            1  ...   \n",
      "1            0            0            0            0            0  ...   \n",
      "2            0            0            0            0            0  ...   \n",
      "3            0            0            0            0            0  ...   \n",
      "\n",
      "   Intensity50  Intensity51  Intensity52  Intensity53  Intensity54  \\\n",
      "0            0            1            1            0            1   \n",
      "1            0            0            0            0            0   \n",
      "2            0            0            0            0            0   \n",
      "3            0            0            0            0            0   \n",
      "\n",
      "   Intensity55  Intensity56  Intensity57  Intensity58  Intensity59  \n",
      "0            1            0            0            0            0  \n",
      "1            0            0            0            0            0  \n",
      "2            0            0            0            0            0  \n",
      "3            0            0            0            0            0  \n",
      "\n",
      "[4 rows x 62 columns]\n",
      "----Data: minuteStepsWide----\n",
      "number of users:  33\n",
      "           Id           ActivityHour  Steps00  Steps01  Steps02  Steps03  \\\n",
      "0  1503960366  4/13/2016 12:00:00 AM        4       16        0        0   \n",
      "1  1503960366   4/13/2016 1:00:00 AM        0        0        0        0   \n",
      "2  1503960366   4/13/2016 2:00:00 AM        0        0        0        0   \n",
      "3  1503960366   4/13/2016 3:00:00 AM        0        0        0        0   \n",
      "\n",
      "   Steps04  Steps05  Steps06  Steps07  ...  Steps50  Steps51  Steps52  \\\n",
      "0        0        9        0       17  ...        0        9        8   \n",
      "1        0        0        0        0  ...        0        0        0   \n",
      "2        0        0        0        0  ...        0        0        0   \n",
      "3        0        0        0        0  ...        0        0        0   \n",
      "\n",
      "   Steps53  Steps54  Steps55  Steps56  Steps57  Steps58  Steps59  \n",
      "0        0       20        1        0        0        0        0  \n",
      "1        0        0        0        0        0        0        0  \n",
      "2        0        0        0        0        0        0        0  \n",
      "3        0        0        0        0        0        0        0  \n",
      "\n",
      "[4 rows x 62 columns]\n",
      "----Data: sleepDay----\n",
      "number of users:  24\n",
      "           Id               SleepDay  TotalSleepRecords  TotalMinutesAsleep  \\\n",
      "0  1503960366  4/12/2016 12:00:00 AM                  1                 327   \n",
      "1  1503960366  4/13/2016 12:00:00 AM                  2                 384   \n",
      "2  1503960366  4/15/2016 12:00:00 AM                  1                 412   \n",
      "3  1503960366  4/16/2016 12:00:00 AM                  2                 340   \n",
      "\n",
      "   TotalTimeInBed  \n",
      "0             346  \n",
      "1             407  \n",
      "2             442  \n",
      "3             367  \n"
     ]
    }
   ],
   "source": [
    "# View subset of data to see what kind of data is stored in each dataframe\n",
    "for name, df in dataframes.items():\n",
    "    print(f'----Data: {name}----')\n",
    "    \n",
    "    # Check number of users in the dataset\n",
    "    n= df['Id'].nunique()\n",
    "    print('number of users: ', n)\n",
    "    \n",
    "    # Look at sample data \n",
    "    print(df.head(4))\n",
    "    \n",
    "    "
   ]
  },
  {
   "cell_type": "markdown",
   "metadata": {},
   "source": [
    "Based on the observation, We can build the following table."
   ]
  },
  {
   "cell_type": "markdown",
   "metadata": {},
   "source": [
    "\n",
    "\n",
    "| File   Name             | Type     | Description                                                                                                                                                             | Numer of users |\n",
    "|-------------------------|----------|-------------------------------------------------------------------------------------------------------------------------------------------------------------------------|----------------|\n",
    "| weightLogInfo           | csv file | Weight log info. The record could be entered manual. Columns: Id, Date,   Weight(kg & lbs), Fat, BMI, Manual, LogID                                                     | 24             |\n",
    "| dailyActivity           | csv file | Daily activity tracker for per user. Columns: steps, distance,   distance+intensity, minute+intencity, Calories                                                         | 35             |\n",
    "| dailyCalories           | csv file | Daily calorie consumption                                                                                                                                               | 35             |\n",
    "| dailyIntensities        | csv file | The daily intensity data records the time (in minutes) and distance spent   at different intensity levels: Sedentary, Lightly Active, Fairly Active, and   Very Active. | 35             |\n",
    "| dailySteps              | csv file | Steps taken each day                                                                                                                                                    | 35             |\n",
    "| heartrate_seconds       | csv file | Heart rate changes for every 5 seconds                                                                                                                                  | 15             |\n",
    "| hourlyCalories          | csv file | Calorie consumption for every hour                                                                                                                                      | 35             |\n",
    "| hourlyIntensities       | csv file | Hourly Intensities                                                                                                                                                      | 35             |\n",
    "| hourlySteps             | csv file | Hourly Steps                                                                                                                                                            | 35             |\n",
    "| minuteCaloriesNarrow    | csv file | Calorie consumption is recorded per minute, with each value stored in a   separate row.                                                                                 | 35             |\n",
    "| minuteCaloriesWide      | csv file | Calorie consumption is recorded per minute, with values from the same   hour grouped in a single row across different columns                                           | 35             |\n",
    "| minuteIntensitiesNarrow | csv file | Intensity level 0-3 recorded per minute                                                                                                                                 | 35             |\n",
    "| minuteIntensitiesWide   | csv file | Intensity level 0-3 recorded per minute, with each value from the same   hour grouped in a single row across different columns                                          | 35             |\n",
    "| minuteMETsNarrow        | csv file | metabolic equivalents is recorded per minute                                                                                                                            | 35             |\n",
    "| minuteSleep             | csv file | Sleep data per minute. However, it is difficult to identify what the   column [value] means                                                                             | 25             |\n",
    "| minuteStepsNarrow       | csv file | Number of steps taken per minute, with each value stored in a separate   row.                                                                                           | 33             |\n",
    "| minuteStepsWide         | csv file | Number of steps taken per minute, with values from the same hour grouped   in a single row across different columns                                                     | 33             |\n",
    "| sleepDay                | csv file | Daily sleep   logs, tracked by: Total count of sleeps a day, Total minutes, Total Time in   Bed                                                                         | 24             |"
   ]
  },
  {
   "cell_type": "markdown",
   "metadata": {},
   "source": [
    "### 2.3. Data Credibility & Integrity\n",
    "The small sample size (ranging from 15 to 35 users) limits the ability to generalize findings to the broader user population. Additionally, the data spans only a two-month period in 2016, which is likely insufficient to capture long-term trends and may not accurately reflect current user behavior or patterns."
   ]
  },
  {
   "cell_type": "markdown",
   "metadata": {},
   "source": [
    "### 2.4. Focus\n",
    "\n",
    "Based on the overview of the datasets, the analysis will focus on the following areas:\n",
    "\n",
    "\n",
    "1. **Classifying User Engagement Levels**\n",
    "    - Identify patterns in app usage frequency, activity levels (e.g., step counts), and device wearing habits.\n",
    "    - Categorize users into engagement tiers (e.g., heavy, medium, light) to inform personalized marketing strategies.\n",
    "    \n",
    "\n",
    "2. **Understanding Weight Logging Behavior**\n",
    "    - Examine how users log weight (manually or automatically) and how frequently.\n",
    "    - Assess if weight-tracking users show stronger overall app engagement.\n",
    "    \n",
    "\n",
    "3. **Exploring Factors that Influence Sleep Quality**\n",
    "    - Analyze how physical activity levels and device usage relate to sleep efficiency and duration.\n",
    "    - Evaluate whether the time of day users are most physically active (morning, afternoon, evening, night) correlates with better sleep outcomes.\n",
    "    - Identify potential behavioral patterns that could inform sleep coaching features.\n"
   ]
  },
  {
   "cell_type": "markdown",
   "metadata": {},
   "source": [
    "## 3. Prepare\n",
    "\n",
    "### 3.1. Dataset Selection\n",
    "To answer the questions above, we take these dataframes for the analysis:<br>\n",
    "* weightLogInfo\n",
    "* dailyActivity\n",
    "* sleepDay\n",
    "* hourlyIntensities"
   ]
  },
  {
   "cell_type": "code",
   "execution_count": 3,
   "metadata": {},
   "outputs": [],
   "source": [
    "df_weightLogInfo = dataframes['weightLogInfo'].copy()\n",
    "df_dailyActivity = dataframes['dailyActivity'].copy()\n",
    "df_sleepDay = dataframes['sleepDay'].copy()\n",
    "df_hourlyIntensities = dataframes['hourlyIntensities'].copy()"
   ]
  },
  {
   "cell_type": "markdown",
   "metadata": {},
   "source": [
    "### 3.2. Data Cleaning\n",
    "For data cleaning, I will address the following categories:\n",
    "* Data Type\n",
    "* Null \n",
    "* Date Range\n",
    "* Duplicates "
   ]
  },
  {
   "cell_type": "markdown",
   "metadata": {},
   "source": [
    "#### 3.2.1. Data Type "
   ]
  },
  {
   "cell_type": "code",
   "execution_count": 4,
   "metadata": {},
   "outputs": [
    {
     "name": "stdout",
     "output_type": "stream",
     "text": [
      "<class 'pandas.core.frame.DataFrame'>\n",
      "RangeIndex: 100 entries, 0 to 99\n",
      "Data columns (total 8 columns):\n",
      " #   Column          Non-Null Count  Dtype  \n",
      "---  ------          --------------  -----  \n",
      " 0   Id              100 non-null    int64  \n",
      " 1   Date            100 non-null    object \n",
      " 2   WeightKg        100 non-null    float64\n",
      " 3   WeightPounds    100 non-null    float64\n",
      " 4   Fat             4 non-null      float64\n",
      " 5   BMI             100 non-null    float64\n",
      " 6   IsManualReport  100 non-null    bool   \n",
      " 7   LogId           100 non-null    int64  \n",
      "dtypes: bool(1), float64(4), int64(2), object(1)\n",
      "memory usage: 5.7+ KB\n"
     ]
    }
   ],
   "source": [
    "df_weightLogInfo.info()"
   ]
  },
  {
   "cell_type": "code",
   "execution_count": 5,
   "metadata": {},
   "outputs": [
    {
     "name": "stdout",
     "output_type": "stream",
     "text": [
      "<class 'pandas.core.frame.DataFrame'>\n",
      "RangeIndex: 1397 entries, 0 to 1396\n",
      "Data columns (total 15 columns):\n",
      " #   Column                    Non-Null Count  Dtype  \n",
      "---  ------                    --------------  -----  \n",
      " 0   Id                        1397 non-null   int64  \n",
      " 1   ActivityDate              1397 non-null   object \n",
      " 2   TotalSteps                1397 non-null   int64  \n",
      " 3   TotalDistance             1397 non-null   float64\n",
      " 4   TrackerDistance           1397 non-null   float64\n",
      " 5   LoggedActivitiesDistance  1397 non-null   float64\n",
      " 6   VeryActiveDistance        1397 non-null   float64\n",
      " 7   ModeratelyActiveDistance  1397 non-null   float64\n",
      " 8   LightActiveDistance       1397 non-null   float64\n",
      " 9   SedentaryActiveDistance   1397 non-null   float64\n",
      " 10  VeryActiveMinutes         1397 non-null   int64  \n",
      " 11  FairlyActiveMinutes       1397 non-null   int64  \n",
      " 12  LightlyActiveMinutes      1397 non-null   int64  \n",
      " 13  SedentaryMinutes          1397 non-null   int64  \n",
      " 14  Calories                  1397 non-null   int64  \n",
      "dtypes: float64(7), int64(7), object(1)\n",
      "memory usage: 163.8+ KB\n"
     ]
    }
   ],
   "source": [
    "df_dailyActivity.info()"
   ]
  },
  {
   "cell_type": "code",
   "execution_count": 6,
   "metadata": {
    "scrolled": true
   },
   "outputs": [
    {
     "name": "stdout",
     "output_type": "stream",
     "text": [
      "<class 'pandas.core.frame.DataFrame'>\n",
      "RangeIndex: 413 entries, 0 to 412\n",
      "Data columns (total 5 columns):\n",
      " #   Column              Non-Null Count  Dtype \n",
      "---  ------              --------------  ----- \n",
      " 0   Id                  413 non-null    int64 \n",
      " 1   SleepDay            413 non-null    object\n",
      " 2   TotalSleepRecords   413 non-null    int64 \n",
      " 3   TotalMinutesAsleep  413 non-null    int64 \n",
      " 4   TotalTimeInBed      413 non-null    int64 \n",
      "dtypes: int64(4), object(1)\n",
      "memory usage: 16.3+ KB\n"
     ]
    }
   ],
   "source": [
    "df_sleepDay.info()"
   ]
  },
  {
   "cell_type": "code",
   "execution_count": 7,
   "metadata": {},
   "outputs": [
    {
     "name": "stdout",
     "output_type": "stream",
     "text": [
      "<class 'pandas.core.frame.DataFrame'>\n",
      "RangeIndex: 46183 entries, 0 to 46182\n",
      "Data columns (total 4 columns):\n",
      " #   Column            Non-Null Count  Dtype  \n",
      "---  ------            --------------  -----  \n",
      " 0   Id                46183 non-null  int64  \n",
      " 1   ActivityHour      46183 non-null  object \n",
      " 2   TotalIntensity    46183 non-null  int64  \n",
      " 3   AverageIntensity  46183 non-null  float64\n",
      "dtypes: float64(1), int64(2), object(1)\n",
      "memory usage: 1.4+ MB\n"
     ]
    }
   ],
   "source": [
    "df_hourlyIntensities.info()"
   ]
  },
  {
   "cell_type": "markdown",
   "metadata": {},
   "source": [
    "According to the observations above, the followings were discovered:\n",
    "1. There are inconsistency in column names across different dataframes.\n",
    "2. DateTime values are being read as objects.\n",
    "3. The \"Fat\" column in df_weightLogInfo contains only 4 non-null values out of 100.\n",
    "\n",
    "To address these issues, we will:\n",
    "1. Standardize column names across all dataframes.\n",
    "2. Convert the object columns to the appropriate DateTime data type.\n",
    "3. Drop the \"Fat\" column for the analysis, given its high number of null values. Also, I will drop the \"TotalSleepRecords\" and \"LogId\" because there is no clear explanation about the data and hard to interpret its meanings.\n",
    "\n",
    "\n"
   ]
  },
  {
   "cell_type": "code",
   "execution_count": 8,
   "metadata": {},
   "outputs": [],
   "source": [
    "# Standardize column names across all dataframes\n",
    "df_dailyActivity = df_dailyActivity.rename(columns = {'ActivityDate': 'Date'})\n",
    "df_sleepDay = df_sleepDay.rename(columns = {'SleepDay' : 'Date'})\n",
    "df_hourlyIntensities = df_hourlyIntensities = df_hourlyIntensities.rename(columns = {'ActivityHour' : 'Date'})"
   ]
  },
  {
   "cell_type": "code",
   "execution_count": 9,
   "metadata": {},
   "outputs": [],
   "source": [
    "# Convert object columns to DateTime\n",
    "df_weightLogInfo['Date'] = pd.to_datetime(df_weightLogInfo['Date'])\n",
    "df_dailyActivity['Date'] = pd.to_datetime(df_dailyActivity['Date'])\n",
    "df_sleepDay['Date'] = pd.to_datetime(df_sleepDay['Date'])\n",
    "df_hourlyIntensities['Date'] = pd.to_datetime(df_hourlyIntensities['Date'])\n"
   ]
  },
  {
   "cell_type": "code",
   "execution_count": 10,
   "metadata": {},
   "outputs": [],
   "source": [
    "# Drop \"Fat\" Column\n",
    "df_weightLogInfo.drop('Fat', axis=1, inplace=True)"
   ]
  },
  {
   "cell_type": "code",
   "execution_count": 11,
   "metadata": {},
   "outputs": [],
   "source": [
    "# Drop \"TotalSleepRecords\" and \"LogId\"\n",
    "df_sleepDay.drop('TotalSleepRecords', axis = 1, inplace = True)\n",
    "df_weightLogInfo.drop('LogId', axis = 1, inplace = True)"
   ]
  },
  {
   "cell_type": "markdown",
   "metadata": {},
   "source": [
    "#### 3.2.2. Null"
   ]
  },
  {
   "cell_type": "code",
   "execution_count": 12,
   "metadata": {},
   "outputs": [
    {
     "data": {
      "text/plain": [
       "Id                0\n",
       "Date              0\n",
       "WeightKg          0\n",
       "WeightPounds      0\n",
       "BMI               0\n",
       "IsManualReport    0\n",
       "dtype: int64"
      ]
     },
     "execution_count": 12,
     "metadata": {},
     "output_type": "execute_result"
    }
   ],
   "source": [
    "df_weightLogInfo.isnull().sum()"
   ]
  },
  {
   "cell_type": "code",
   "execution_count": 13,
   "metadata": {},
   "outputs": [
    {
     "data": {
      "text/plain": [
       "Id                          0\n",
       "Date                        0\n",
       "TotalSteps                  0\n",
       "TotalDistance               0\n",
       "TrackerDistance             0\n",
       "LoggedActivitiesDistance    0\n",
       "VeryActiveDistance          0\n",
       "ModeratelyActiveDistance    0\n",
       "LightActiveDistance         0\n",
       "SedentaryActiveDistance     0\n",
       "VeryActiveMinutes           0\n",
       "FairlyActiveMinutes         0\n",
       "LightlyActiveMinutes        0\n",
       "SedentaryMinutes            0\n",
       "Calories                    0\n",
       "dtype: int64"
      ]
     },
     "execution_count": 13,
     "metadata": {},
     "output_type": "execute_result"
    }
   ],
   "source": [
    "df_dailyActivity.isnull().sum()"
   ]
  },
  {
   "cell_type": "code",
   "execution_count": 14,
   "metadata": {},
   "outputs": [
    {
     "data": {
      "text/plain": [
       "Id                    0\n",
       "Date                  0\n",
       "TotalMinutesAsleep    0\n",
       "TotalTimeInBed        0\n",
       "dtype: int64"
      ]
     },
     "execution_count": 14,
     "metadata": {},
     "output_type": "execute_result"
    }
   ],
   "source": [
    "df_sleepDay.isnull().sum()"
   ]
  },
  {
   "cell_type": "code",
   "execution_count": 15,
   "metadata": {},
   "outputs": [
    {
     "data": {
      "text/plain": [
       "Id                  0\n",
       "Date                0\n",
       "TotalIntensity      0\n",
       "AverageIntensity    0\n",
       "dtype: int64"
      ]
     },
     "execution_count": 15,
     "metadata": {},
     "output_type": "execute_result"
    }
   ],
   "source": [
    "df_hourlyIntensities.isnull().sum()"
   ]
  },
  {
   "cell_type": "markdown",
   "metadata": {},
   "source": [
    "#### 3.2.3 Date Range"
   ]
  },
  {
   "cell_type": "code",
   "execution_count": 16,
   "metadata": {},
   "outputs": [
    {
     "name": "stdout",
     "output_type": "stream",
     "text": [
      "2016-03-30 23:59:59\n",
      "2016-05-12 23:59:59\n"
     ]
    }
   ],
   "source": [
    "print(df_weightLogInfo['Date'].min())\n",
    "print(df_weightLogInfo['Date'].max())\n",
    "\n",
    "# Extract just the time (HH:MM:SS)\n",
    "df_weightLogInfo['Time'] = df_weightLogInfo['Date'].dt.time\n",
    "\n",
    "# Extract just the date\n",
    "df_weightLogInfo['Date'] = pd.to_datetime(df_weightLogInfo['Date'].dt.date)\n"
   ]
  },
  {
   "cell_type": "code",
   "execution_count": 17,
   "metadata": {},
   "outputs": [
    {
     "name": "stdout",
     "output_type": "stream",
     "text": [
      "2016-03-12 00:00:00\n",
      "2016-05-12 00:00:00\n"
     ]
    }
   ],
   "source": [
    "print(df_dailyActivity['Date'].min())\n",
    "print(df_dailyActivity['Date'].max())"
   ]
  },
  {
   "cell_type": "code",
   "execution_count": 18,
   "metadata": {},
   "outputs": [
    {
     "name": "stdout",
     "output_type": "stream",
     "text": [
      "2016-04-12 00:00:00\n",
      "2016-05-12 00:00:00\n"
     ]
    }
   ],
   "source": [
    "print(df_sleepDay['Date'].min())\n",
    "print(df_sleepDay['Date'].max())"
   ]
  },
  {
   "cell_type": "code",
   "execution_count": 19,
   "metadata": {},
   "outputs": [
    {
     "name": "stdout",
     "output_type": "stream",
     "text": [
      "2016-03-12 00:00:00\n",
      "2016-05-12 15:00:00\n"
     ]
    }
   ],
   "source": [
    "print(df_hourlyIntensities['Date'].min())\n",
    "print(df_hourlyIntensities['Date'].max())\n",
    "\n",
    "# Extract just the time (HH:MM:SS)\n",
    "df_hourlyIntensities['Time'] = df_hourlyIntensities['Date'].dt.time\n",
    "\n",
    "# Convert to datetime and extract hour\n",
    "df_hourlyIntensities['hour'] = pd.to_datetime(df_hourlyIntensities['Time'], format='%H:%M:%S').dt.hour\n",
    "\n",
    "# Extract just the date\n",
    "df_hourlyIntensities['Date'] = pd.to_datetime(df_hourlyIntensities['Date'].dt.date)\n"
   ]
  },
  {
   "cell_type": "markdown",
   "metadata": {},
   "source": [
    "#### 3.2.4. Duplicates"
   ]
  },
  {
   "cell_type": "code",
   "execution_count": 20,
   "metadata": {},
   "outputs": [
    {
     "data": {
      "text/html": [
       "<div>\n",
       "<style scoped>\n",
       "    .dataframe tbody tr th:only-of-type {\n",
       "        vertical-align: middle;\n",
       "    }\n",
       "\n",
       "    .dataframe tbody tr th {\n",
       "        vertical-align: top;\n",
       "    }\n",
       "\n",
       "    .dataframe thead th {\n",
       "        text-align: right;\n",
       "    }\n",
       "</style>\n",
       "<table border=\"1\" class=\"dataframe\">\n",
       "  <thead>\n",
       "    <tr style=\"text-align: right;\">\n",
       "      <th></th>\n",
       "      <th>Id</th>\n",
       "      <th>Date</th>\n",
       "      <th>WeightKg</th>\n",
       "      <th>WeightPounds</th>\n",
       "      <th>BMI</th>\n",
       "      <th>IsManualReport</th>\n",
       "      <th>Time</th>\n",
       "    </tr>\n",
       "  </thead>\n",
       "  <tbody>\n",
       "    <tr>\n",
       "      <th>22</th>\n",
       "      <td>6962181067</td>\n",
       "      <td>2016-04-12</td>\n",
       "      <td>62.500000</td>\n",
       "      <td>137.788914</td>\n",
       "      <td>24.389999</td>\n",
       "      <td>True</td>\n",
       "      <td>23:59:59</td>\n",
       "    </tr>\n",
       "    <tr>\n",
       "      <th>32</th>\n",
       "      <td>8877689391</td>\n",
       "      <td>2016-04-12</td>\n",
       "      <td>85.800003</td>\n",
       "      <td>189.156628</td>\n",
       "      <td>25.680000</td>\n",
       "      <td>False</td>\n",
       "      <td>06:47:11</td>\n",
       "    </tr>\n",
       "    <tr>\n",
       "      <th>46</th>\n",
       "      <td>6962181067</td>\n",
       "      <td>2016-04-12</td>\n",
       "      <td>62.500000</td>\n",
       "      <td>137.788914</td>\n",
       "      <td>24.389999</td>\n",
       "      <td>True</td>\n",
       "      <td>23:59:59</td>\n",
       "    </tr>\n",
       "    <tr>\n",
       "      <th>76</th>\n",
       "      <td>8877689391</td>\n",
       "      <td>2016-04-12</td>\n",
       "      <td>85.800003</td>\n",
       "      <td>189.156628</td>\n",
       "      <td>25.680000</td>\n",
       "      <td>False</td>\n",
       "      <td>06:47:11</td>\n",
       "    </tr>\n",
       "  </tbody>\n",
       "</table>\n",
       "</div>"
      ],
      "text/plain": [
       "            Id       Date   WeightKg  WeightPounds        BMI  IsManualReport  \\\n",
       "22  6962181067 2016-04-12  62.500000    137.788914  24.389999            True   \n",
       "32  8877689391 2016-04-12  85.800003    189.156628  25.680000           False   \n",
       "46  6962181067 2016-04-12  62.500000    137.788914  24.389999            True   \n",
       "76  8877689391 2016-04-12  85.800003    189.156628  25.680000           False   \n",
       "\n",
       "        Time  \n",
       "22  23:59:59  \n",
       "32  06:47:11  \n",
       "46  23:59:59  \n",
       "76  06:47:11  "
      ]
     },
     "execution_count": 20,
     "metadata": {},
     "output_type": "execute_result"
    }
   ],
   "source": [
    "df_weightLogInfo[df_weightLogInfo.duplicated(keep=False)]"
   ]
  },
  {
   "cell_type": "code",
   "execution_count": 21,
   "metadata": {},
   "outputs": [
    {
     "data": {
      "text/html": [
       "<div>\n",
       "<style scoped>\n",
       "    .dataframe tbody tr th:only-of-type {\n",
       "        vertical-align: middle;\n",
       "    }\n",
       "\n",
       "    .dataframe tbody tr th {\n",
       "        vertical-align: top;\n",
       "    }\n",
       "\n",
       "    .dataframe thead th {\n",
       "        text-align: right;\n",
       "    }\n",
       "</style>\n",
       "<table border=\"1\" class=\"dataframe\">\n",
       "  <thead>\n",
       "    <tr style=\"text-align: right;\">\n",
       "      <th></th>\n",
       "      <th>Id</th>\n",
       "      <th>Date</th>\n",
       "      <th>TotalSteps</th>\n",
       "      <th>TotalDistance</th>\n",
       "      <th>TrackerDistance</th>\n",
       "      <th>LoggedActivitiesDistance</th>\n",
       "      <th>VeryActiveDistance</th>\n",
       "      <th>ModeratelyActiveDistance</th>\n",
       "      <th>LightActiveDistance</th>\n",
       "      <th>SedentaryActiveDistance</th>\n",
       "      <th>VeryActiveMinutes</th>\n",
       "      <th>FairlyActiveMinutes</th>\n",
       "      <th>LightlyActiveMinutes</th>\n",
       "      <th>SedentaryMinutes</th>\n",
       "      <th>Calories</th>\n",
       "    </tr>\n",
       "  </thead>\n",
       "  <tbody>\n",
       "  </tbody>\n",
       "</table>\n",
       "</div>"
      ],
      "text/plain": [
       "Empty DataFrame\n",
       "Columns: [Id, Date, TotalSteps, TotalDistance, TrackerDistance, LoggedActivitiesDistance, VeryActiveDistance, ModeratelyActiveDistance, LightActiveDistance, SedentaryActiveDistance, VeryActiveMinutes, FairlyActiveMinutes, LightlyActiveMinutes, SedentaryMinutes, Calories]\n",
       "Index: []"
      ]
     },
     "execution_count": 21,
     "metadata": {},
     "output_type": "execute_result"
    }
   ],
   "source": [
    "df_dailyActivity[df_dailyActivity.duplicated(keep=False)]"
   ]
  },
  {
   "cell_type": "code",
   "execution_count": 22,
   "metadata": {},
   "outputs": [
    {
     "data": {
      "text/html": [
       "<div>\n",
       "<style scoped>\n",
       "    .dataframe tbody tr th:only-of-type {\n",
       "        vertical-align: middle;\n",
       "    }\n",
       "\n",
       "    .dataframe tbody tr th {\n",
       "        vertical-align: top;\n",
       "    }\n",
       "\n",
       "    .dataframe thead th {\n",
       "        text-align: right;\n",
       "    }\n",
       "</style>\n",
       "<table border=\"1\" class=\"dataframe\">\n",
       "  <thead>\n",
       "    <tr style=\"text-align: right;\">\n",
       "      <th></th>\n",
       "      <th>Id</th>\n",
       "      <th>Date</th>\n",
       "      <th>TotalMinutesAsleep</th>\n",
       "      <th>TotalTimeInBed</th>\n",
       "    </tr>\n",
       "  </thead>\n",
       "  <tbody>\n",
       "    <tr>\n",
       "      <th>160</th>\n",
       "      <td>4388161847</td>\n",
       "      <td>2016-05-05</td>\n",
       "      <td>471</td>\n",
       "      <td>495</td>\n",
       "    </tr>\n",
       "    <tr>\n",
       "      <th>161</th>\n",
       "      <td>4388161847</td>\n",
       "      <td>2016-05-05</td>\n",
       "      <td>471</td>\n",
       "      <td>495</td>\n",
       "    </tr>\n",
       "    <tr>\n",
       "      <th>222</th>\n",
       "      <td>4702921684</td>\n",
       "      <td>2016-05-07</td>\n",
       "      <td>520</td>\n",
       "      <td>543</td>\n",
       "    </tr>\n",
       "    <tr>\n",
       "      <th>223</th>\n",
       "      <td>4702921684</td>\n",
       "      <td>2016-05-07</td>\n",
       "      <td>520</td>\n",
       "      <td>543</td>\n",
       "    </tr>\n",
       "    <tr>\n",
       "      <th>379</th>\n",
       "      <td>8378563200</td>\n",
       "      <td>2016-04-25</td>\n",
       "      <td>388</td>\n",
       "      <td>402</td>\n",
       "    </tr>\n",
       "    <tr>\n",
       "      <th>380</th>\n",
       "      <td>8378563200</td>\n",
       "      <td>2016-04-25</td>\n",
       "      <td>388</td>\n",
       "      <td>402</td>\n",
       "    </tr>\n",
       "  </tbody>\n",
       "</table>\n",
       "</div>"
      ],
      "text/plain": [
       "             Id       Date  TotalMinutesAsleep  TotalTimeInBed\n",
       "160  4388161847 2016-05-05                 471             495\n",
       "161  4388161847 2016-05-05                 471             495\n",
       "222  4702921684 2016-05-07                 520             543\n",
       "223  4702921684 2016-05-07                 520             543\n",
       "379  8378563200 2016-04-25                 388             402\n",
       "380  8378563200 2016-04-25                 388             402"
      ]
     },
     "execution_count": 22,
     "metadata": {},
     "output_type": "execute_result"
    }
   ],
   "source": [
    "df_sleepDay[df_sleepDay.duplicated(keep=False)]"
   ]
  },
  {
   "cell_type": "code",
   "execution_count": 23,
   "metadata": {},
   "outputs": [
    {
     "data": {
      "text/html": [
       "<div>\n",
       "<style scoped>\n",
       "    .dataframe tbody tr th:only-of-type {\n",
       "        vertical-align: middle;\n",
       "    }\n",
       "\n",
       "    .dataframe tbody tr th {\n",
       "        vertical-align: top;\n",
       "    }\n",
       "\n",
       "    .dataframe thead th {\n",
       "        text-align: right;\n",
       "    }\n",
       "</style>\n",
       "<table border=\"1\" class=\"dataframe\">\n",
       "  <thead>\n",
       "    <tr style=\"text-align: right;\">\n",
       "      <th></th>\n",
       "      <th>Id</th>\n",
       "      <th>Date</th>\n",
       "      <th>TotalIntensity</th>\n",
       "      <th>AverageIntensity</th>\n",
       "      <th>Time</th>\n",
       "      <th>hour</th>\n",
       "    </tr>\n",
       "  </thead>\n",
       "  <tbody>\n",
       "    <tr>\n",
       "      <th>1488</th>\n",
       "      <td>1624580081</td>\n",
       "      <td>2016-04-12</td>\n",
       "      <td>4</td>\n",
       "      <td>0.066667</td>\n",
       "      <td>00:00:00</td>\n",
       "      <td>0</td>\n",
       "    </tr>\n",
       "    <tr>\n",
       "      <th>1489</th>\n",
       "      <td>1624580081</td>\n",
       "      <td>2016-04-12</td>\n",
       "      <td>1</td>\n",
       "      <td>0.016667</td>\n",
       "      <td>01:00:00</td>\n",
       "      <td>1</td>\n",
       "    </tr>\n",
       "    <tr>\n",
       "      <th>1490</th>\n",
       "      <td>1624580081</td>\n",
       "      <td>2016-04-12</td>\n",
       "      <td>0</td>\n",
       "      <td>0.000000</td>\n",
       "      <td>02:00:00</td>\n",
       "      <td>2</td>\n",
       "    </tr>\n",
       "    <tr>\n",
       "      <th>1491</th>\n",
       "      <td>1624580081</td>\n",
       "      <td>2016-04-12</td>\n",
       "      <td>1</td>\n",
       "      <td>0.016667</td>\n",
       "      <td>03:00:00</td>\n",
       "      <td>3</td>\n",
       "    </tr>\n",
       "    <tr>\n",
       "      <th>1492</th>\n",
       "      <td>1624580081</td>\n",
       "      <td>2016-04-12</td>\n",
       "      <td>0</td>\n",
       "      <td>0.000000</td>\n",
       "      <td>04:00:00</td>\n",
       "      <td>4</td>\n",
       "    </tr>\n",
       "    <tr>\n",
       "      <th>...</th>\n",
       "      <td>...</td>\n",
       "      <td>...</td>\n",
       "      <td>...</td>\n",
       "      <td>...</td>\n",
       "      <td>...</td>\n",
       "      <td>...</td>\n",
       "    </tr>\n",
       "    <tr>\n",
       "      <th>45452</th>\n",
       "      <td>8877689391</td>\n",
       "      <td>2016-04-12</td>\n",
       "      <td>0</td>\n",
       "      <td>0.000000</td>\n",
       "      <td>04:00:00</td>\n",
       "      <td>4</td>\n",
       "    </tr>\n",
       "    <tr>\n",
       "      <th>45453</th>\n",
       "      <td>8877689391</td>\n",
       "      <td>2016-04-12</td>\n",
       "      <td>0</td>\n",
       "      <td>0.000000</td>\n",
       "      <td>05:00:00</td>\n",
       "      <td>5</td>\n",
       "    </tr>\n",
       "    <tr>\n",
       "      <th>45454</th>\n",
       "      <td>8877689391</td>\n",
       "      <td>2016-04-12</td>\n",
       "      <td>7</td>\n",
       "      <td>0.116667</td>\n",
       "      <td>06:00:00</td>\n",
       "      <td>6</td>\n",
       "    </tr>\n",
       "    <tr>\n",
       "      <th>45455</th>\n",
       "      <td>8877689391</td>\n",
       "      <td>2016-04-12</td>\n",
       "      <td>26</td>\n",
       "      <td>0.433333</td>\n",
       "      <td>07:00:00</td>\n",
       "      <td>7</td>\n",
       "    </tr>\n",
       "    <tr>\n",
       "      <th>45456</th>\n",
       "      <td>8877689391</td>\n",
       "      <td>2016-04-12</td>\n",
       "      <td>17</td>\n",
       "      <td>0.283333</td>\n",
       "      <td>08:00:00</td>\n",
       "      <td>8</td>\n",
       "    </tr>\n",
       "  </tbody>\n",
       "</table>\n",
       "<p>350 rows × 6 columns</p>\n",
       "</div>"
      ],
      "text/plain": [
       "               Id       Date  TotalIntensity  AverageIntensity      Time  hour\n",
       "1488   1624580081 2016-04-12               4          0.066667  00:00:00     0\n",
       "1489   1624580081 2016-04-12               1          0.016667  01:00:00     1\n",
       "1490   1624580081 2016-04-12               0          0.000000  02:00:00     2\n",
       "1491   1624580081 2016-04-12               1          0.016667  03:00:00     3\n",
       "1492   1624580081 2016-04-12               0          0.000000  04:00:00     4\n",
       "...           ...        ...             ...               ...       ...   ...\n",
       "45452  8877689391 2016-04-12               0          0.000000  04:00:00     4\n",
       "45453  8877689391 2016-04-12               0          0.000000  05:00:00     5\n",
       "45454  8877689391 2016-04-12               7          0.116667  06:00:00     6\n",
       "45455  8877689391 2016-04-12              26          0.433333  07:00:00     7\n",
       "45456  8877689391 2016-04-12              17          0.283333  08:00:00     8\n",
       "\n",
       "[350 rows x 6 columns]"
      ]
     },
     "execution_count": 23,
     "metadata": {},
     "output_type": "execute_result"
    }
   ],
   "source": [
    "df_hourlyIntensities[df_hourlyIntensities.duplicated(keep=False)]"
   ]
  },
  {
   "cell_type": "markdown",
   "metadata": {},
   "source": [
    "It appears that df_weightLogInfom df_sleepDay, and df_hourlyIntensities have duplicated rows. <br>\n",
    "I will drop the duplicates."
   ]
  },
  {
   "cell_type": "code",
   "execution_count": 24,
   "metadata": {},
   "outputs": [],
   "source": [
    "# Drop duplicates\n",
    "df_weightLogInfo.drop_duplicates(inplace=True)\n",
    "df_sleepDay.drop_duplicates(inplace=True)\n",
    "df_hourlyIntensities.drop_duplicates(inplace=True)"
   ]
  },
  {
   "cell_type": "markdown",
   "metadata": {},
   "source": [
    "## 4. Analysis\n",
    "To support BellaBeat's marketing strategy, we examine activity trends among FitBit users. Specifically, we classify users based on their average daily steps, which is a key indicator of overall physical activity."
   ]
  },
  {
   "cell_type": "markdown",
   "metadata": {},
   "source": [
    "### 4.1. Classifying Users by Daily Step Count"
   ]
  },
  {
   "cell_type": "markdown",
   "metadata": {},
   "source": [
    "Users are categorized by the average number of steps taken per day:\n",
    "\n",
    "- **Sedentary**: Fewer than 5,000 steps per day  \n",
    "- **Lightly active**: 5,000 to 7,499 steps per day  \n",
    "- **Fairly active**: 7,500 to 9,999 steps per day  \n",
    "- **Very active**: 10,000 steps or more per day  \n",
    "\n",
    "### Reference\n",
    "\n",
    "The classification is based on the following article:[Counting Your Steps](https://www.10000steps.org.au/learn-and-discover/counting-steps/)"
   ]
  },
  {
   "cell_type": "code",
   "execution_count": 25,
   "metadata": {},
   "outputs": [],
   "source": [
    "import numpy as np \n",
    "user_steps  = df_dailyActivity.groupby('Id')['TotalSteps'].mean().reset_index(name = 'avg_daily_steps')"
   ]
  },
  {
   "cell_type": "code",
   "execution_count": 26,
   "metadata": {},
   "outputs": [],
   "source": [
    "# Define classification conditions\n",
    "step_bins = [\n",
    "    user_steps['avg_daily_steps'] < 5000,\n",
    "    (user_steps['avg_daily_steps'] >= 5000) & (user_steps['avg_daily_steps'] < 7500),\n",
    "    (user_steps['avg_daily_steps'] >= 7500) & (user_steps['avg_daily_steps'] < 10000),\n",
    "    user_steps['avg_daily_steps'] >= 10000\n",
    "]\n",
    "\n",
    "step_labels = ['Sedentary', 'Lightly Active', 'Fairly Active', 'Very Active']\n",
    "\n",
    "# Assign user type\n",
    "user_steps['activity_level'] = np.select(step_bins, step_labels, default=np.nan)"
   ]
  },
  {
   "cell_type": "code",
   "execution_count": 27,
   "metadata": {},
   "outputs": [
    {
     "data": {
      "text/html": [
       "<div>\n",
       "<style scoped>\n",
       "    .dataframe tbody tr th:only-of-type {\n",
       "        vertical-align: middle;\n",
       "    }\n",
       "\n",
       "    .dataframe tbody tr th {\n",
       "        vertical-align: top;\n",
       "    }\n",
       "\n",
       "    .dataframe thead th {\n",
       "        text-align: right;\n",
       "    }\n",
       "</style>\n",
       "<table border=\"1\" class=\"dataframe\">\n",
       "  <thead>\n",
       "    <tr style=\"text-align: right;\">\n",
       "      <th></th>\n",
       "      <th>Id</th>\n",
       "      <th>avg_daily_steps</th>\n",
       "      <th>activity_level</th>\n",
       "    </tr>\n",
       "  </thead>\n",
       "  <tbody>\n",
       "    <tr>\n",
       "      <th>0</th>\n",
       "      <td>1503960366</td>\n",
       "      <td>11935.780000</td>\n",
       "      <td>Very Active</td>\n",
       "    </tr>\n",
       "    <tr>\n",
       "      <th>1</th>\n",
       "      <td>1624580081</td>\n",
       "      <td>5167.200000</td>\n",
       "      <td>Lightly Active</td>\n",
       "    </tr>\n",
       "    <tr>\n",
       "      <th>2</th>\n",
       "      <td>1644430081</td>\n",
       "      <td>7780.925000</td>\n",
       "      <td>Fairly Active</td>\n",
       "    </tr>\n",
       "    <tr>\n",
       "      <th>3</th>\n",
       "      <td>1844505072</td>\n",
       "      <td>2876.023256</td>\n",
       "      <td>Sedentary</td>\n",
       "    </tr>\n",
       "    <tr>\n",
       "      <th>4</th>\n",
       "      <td>1927972279</td>\n",
       "      <td>1269.069767</td>\n",
       "      <td>Sedentary</td>\n",
       "    </tr>\n",
       "  </tbody>\n",
       "</table>\n",
       "</div>"
      ],
      "text/plain": [
       "           Id  avg_daily_steps  activity_level\n",
       "0  1503960366     11935.780000     Very Active\n",
       "1  1624580081      5167.200000  Lightly Active\n",
       "2  1644430081      7780.925000   Fairly Active\n",
       "3  1844505072      2876.023256       Sedentary\n",
       "4  1927972279      1269.069767       Sedentary"
      ]
     },
     "execution_count": 27,
     "metadata": {},
     "output_type": "execute_result"
    }
   ],
   "source": [
    "user_steps.head()"
   ]
  },
  {
   "cell_type": "markdown",
   "metadata": {},
   "source": [
    "Now, let's see users' distribution."
   ]
  },
  {
   "cell_type": "code",
   "execution_count": 28,
   "metadata": {},
   "outputs": [],
   "source": [
    "# Count users by activity level\n",
    "activity_distribution = user_steps['activity_level'].value_counts().reset_index()\n",
    "activity_distribution.columns = ['activity_level', 'user_count']\n",
    "\n",
    "# Sort for visualization\n",
    "activity_distribution = activity_distribution.sort_values(by='user_count', ascending=False)"
   ]
  },
  {
   "cell_type": "code",
   "execution_count": 29,
   "metadata": {},
   "outputs": [
    {
     "data": {
      "text/html": [
       "<div>\n",
       "<style scoped>\n",
       "    .dataframe tbody tr th:only-of-type {\n",
       "        vertical-align: middle;\n",
       "    }\n",
       "\n",
       "    .dataframe tbody tr th {\n",
       "        vertical-align: top;\n",
       "    }\n",
       "\n",
       "    .dataframe thead th {\n",
       "        text-align: right;\n",
       "    }\n",
       "</style>\n",
       "<table border=\"1\" class=\"dataframe\">\n",
       "  <thead>\n",
       "    <tr style=\"text-align: right;\">\n",
       "      <th></th>\n",
       "      <th>activity_level</th>\n",
       "      <th>user_count</th>\n",
       "    </tr>\n",
       "  </thead>\n",
       "  <tbody>\n",
       "    <tr>\n",
       "      <th>0</th>\n",
       "      <td>Sedentary</td>\n",
       "      <td>13</td>\n",
       "    </tr>\n",
       "    <tr>\n",
       "      <th>1</th>\n",
       "      <td>Fairly Active</td>\n",
       "      <td>8</td>\n",
       "    </tr>\n",
       "    <tr>\n",
       "      <th>2</th>\n",
       "      <td>Lightly Active</td>\n",
       "      <td>7</td>\n",
       "    </tr>\n",
       "    <tr>\n",
       "      <th>3</th>\n",
       "      <td>Very Active</td>\n",
       "      <td>7</td>\n",
       "    </tr>\n",
       "  </tbody>\n",
       "</table>\n",
       "</div>"
      ],
      "text/plain": [
       "   activity_level  user_count\n",
       "0       Sedentary          13\n",
       "1   Fairly Active           8\n",
       "2  Lightly Active           7\n",
       "3     Very Active           7"
      ]
     },
     "execution_count": 29,
     "metadata": {},
     "output_type": "execute_result"
    }
   ],
   "source": [
    "activity_distribution"
   ]
  },
  {
   "cell_type": "code",
   "execution_count": 30,
   "metadata": {},
   "outputs": [
    {
     "data": {
      "image/png": "[encoded data removed]",
      "text/plain": [
       "<Figure size 432x432 with 1 Axes>"
      ]
     },
     "metadata": {},
     "output_type": "display_data"
    }
   ],
   "source": [
    "import matplotlib.pyplot as plt\n",
    "import seaborn as sns\n",
    "\n",
    "# define Seaborn color palette to use\n",
    "colors = sns.color_palette('Blues_r')\n",
    "\n",
    "# plotting data on chart\n",
    "plt.figure(figsize=(6, 6))\n",
    "plt.pie(activity_distribution['user_count'],\n",
    "        labels=activity_distribution['activity_level'],\n",
    "        colors=colors,\n",
    "        autopct='%.0f%%',\n",
    "        startangle=140)\n",
    "\n",
    "plt.title('Distribution of Users by Activity Level')\n",
    "plt.tight_layout()\n",
    "plt.show()"
   ]
  },
  {
   "cell_type": "markdown",
   "metadata": {},
   "source": [
    "Approximately 37% of users are sedentary, while 63% are at least lightly active. Although not the majority, the sedentary group is still the largest single category, presenting a valuable audience for BellaBeat to engage with motivational or goal-based health features."
   ]
  },
  {
   "cell_type": "markdown",
   "metadata": {},
   "source": [
    "### 4.2. Classifying Users by App Engagement\n",
    "\n",
    "User app usage levels are determined based on the number of recorded activities within the specified date ranges.\n",
    "\n",
    "The data covers two time periods:\n",
    "- March 12 to April 11\n",
    "- April 12 to May 11\n",
    "\n",
    "Each user’s usage baseline is determined as follows:\n",
    "\n",
    "- 30 days if activity is logged in only one of the two periods\n",
    "\n",
    "- 60 days if activity spans both periods\n",
    "\n",
    "**User Engagement Categories**\n",
    "\n",
    "- Light user: Active on < 50% of days  \n",
    "- Medium user: Active on 50% to < 80% of days  \n",
    "- Heavy user: Active on ≥ 80% of days  "
   ]
  },
  {
   "cell_type": "code",
   "execution_count": 31,
   "metadata": {},
   "outputs": [],
   "source": [
    "# Calculate user-level usage stats\n",
    "user_engagement = df_dailyActivity.groupby('Id').agg(\n",
    "    start_date=('Date', 'min'),\n",
    "    end_date=('Date', 'max'),\n",
    "    active_days=('Date', 'nunique')\n",
    ").reset_index()"
   ]
  },
  {
   "cell_type": "code",
   "execution_count": 32,
   "metadata": {},
   "outputs": [],
   "source": [
    "# Assign baseline based on coverage\n",
    "user_engagement['baseline_days'] = np.where(\n",
    "    (user_engagement['start_date'] < '2016-04-12') & (user_engagement['end_date'] > '2016-04-11'),\n",
    "    60, 30\n",
    ")\n"
   ]
  },
  {
   "cell_type": "code",
   "execution_count": 33,
   "metadata": {},
   "outputs": [],
   "source": [
    "# Calculate usage ratio and assign category\n",
    "user_engagement['usage_ratio'] = user_engagement['active_days'] / user_engagement['baseline_days']\n",
    "\n",
    "conditions = [\n",
    "    user_engagement['usage_ratio'] >= 0.8,\n",
    "    (user_engagement['usage_ratio'] >= 0.5) & (user_engagement['usage_ratio'] < 0.8),\n",
    "    user_engagement['usage_ratio'] < 0.5\n",
    "]\n",
    "labels = ['Heavy User', 'Medium User', 'Light User']\n",
    "\n",
    "user_engagement['usage_category'] = np.select(conditions, labels)"
   ]
  },
  {
   "cell_type": "code",
   "execution_count": 34,
   "metadata": {},
   "outputs": [],
   "source": [
    "# Count users per category\n",
    "usage_summary = user_engagement.groupby('usage_category')['Id'].count().reset_index(name='user_count')\n",
    "usage_summary = usage_summary.sort_values(by='user_count', ascending=False)"
   ]
  },
  {
   "cell_type": "code",
   "execution_count": 35,
   "metadata": {},
   "outputs": [
    {
     "data": {
      "text/html": [
       "<div>\n",
       "<style scoped>\n",
       "    .dataframe tbody tr th:only-of-type {\n",
       "        vertical-align: middle;\n",
       "    }\n",
       "\n",
       "    .dataframe tbody tr th {\n",
       "        vertical-align: top;\n",
       "    }\n",
       "\n",
       "    .dataframe thead th {\n",
       "        text-align: right;\n",
       "    }\n",
       "</style>\n",
       "<table border=\"1\" class=\"dataframe\">\n",
       "  <thead>\n",
       "    <tr style=\"text-align: right;\">\n",
       "      <th></th>\n",
       "      <th>usage_category</th>\n",
       "      <th>user_count</th>\n",
       "    </tr>\n",
       "  </thead>\n",
       "  <tbody>\n",
       "    <tr>\n",
       "      <th>2</th>\n",
       "      <td>Medium User</td>\n",
       "      <td>30</td>\n",
       "    </tr>\n",
       "    <tr>\n",
       "      <th>0</th>\n",
       "      <td>Heavy User</td>\n",
       "      <td>3</td>\n",
       "    </tr>\n",
       "    <tr>\n",
       "      <th>1</th>\n",
       "      <td>Light User</td>\n",
       "      <td>2</td>\n",
       "    </tr>\n",
       "  </tbody>\n",
       "</table>\n",
       "</div>"
      ],
      "text/plain": [
       "  usage_category  user_count\n",
       "2    Medium User          30\n",
       "0     Heavy User           3\n",
       "1     Light User           2"
      ]
     },
     "execution_count": 35,
     "metadata": {},
     "output_type": "execute_result"
    }
   ],
   "source": [
    "usage_summary"
   ]
  },
  {
   "cell_type": "code",
   "execution_count": 36,
   "metadata": {},
   "outputs": [
    {
     "data": {
      "image/png": "[encoded data removed]",
      "text/plain": [
       "<Figure size 432x432 with 1 Axes>"
      ]
     },
     "metadata": {},
     "output_type": "display_data"
    }
   ],
   "source": [
    "# plotting data on chart\n",
    "plt.figure(figsize=(6, 6))\n",
    "plt.pie(usage_summary['user_count'],\n",
    "        labels=usage_summary['usage_category'],\n",
    "        colors=colors,\n",
    "        autopct='%.0f%%',\n",
    "        startangle=140)\n",
    "\n",
    "plt.title('User App Engagement Levels')\n",
    "plt.tight_layout()\n",
    "plt.show()"
   ]
  },
  {
   "cell_type": "markdown",
   "metadata": {},
   "source": [
    "The majority of users (30 out of 35) fall under the medium usage category.\n",
    "Only 3 users are classified as heavy users, and 2 users are light users.\n",
    "\n",
    "This suggests that while users are regularly engaging with the app, there’s a substantial opportunity to convert medium users into heavy users by encouraging more consistent daily activity logging."
   ]
  },
  {
   "cell_type": "markdown",
   "metadata": {},
   "source": [
    "### 4.3. Classifying Users by Daily Device Wearing Time\n",
    "To better understand how frequently users wear their devices throughout the day, we calculate the average total wearing time for each user. This insight helps identify user engagement beyond app usage, shedding light on whether users are passively wearing the device for health monitoring.\n",
    "\n",
    "**How Wearing Time is Calculated** <br/>\n",
    "Total daily wearing time is approximated as the sum of: [VeryActiveMinutes], [FairlyActiveMinutes], [LightlyActiveMinutes], [SedentaryMinutes]\n",
    "\n",
    "This gives us the total minutes the device was worn per day."
   ]
  },
  {
   "cell_type": "code",
   "execution_count": 37,
   "metadata": {},
   "outputs": [],
   "source": [
    "# Calculate total wearing time per day\n",
    "df_dailyActivity['TotalWearingTime'] = (\n",
    "    df_dailyActivity['VeryActiveMinutes'] +\n",
    "    df_dailyActivity['FairlyActiveMinutes'] +\n",
    "    df_dailyActivity['LightlyActiveMinutes'] +\n",
    "    df_dailyActivity['SedentaryMinutes']\n",
    ")\n",
    "\n",
    "# Compute average daily wearing time per user\n",
    "user_wearing_time = df_dailyActivity.groupby('Id')['TotalWearingTime'].mean().reset_index(name='avg_wearing_time')\n",
    "\n",
    "# Convert to percentage of total minutes in a day (1,440)\n",
    "user_wearing_time['pct_of_day_worn'] = user_wearing_time['avg_wearing_time'] / 1440"
   ]
  },
  {
   "cell_type": "code",
   "execution_count": 38,
   "metadata": {},
   "outputs": [],
   "source": [
    "# Categorize users based on device usage time\n",
    "conditions = [\n",
    "    user_wearing_time['pct_of_day_worn'] < 0.5,\n",
    "    (user_wearing_time['pct_of_day_worn'] >= 0.5) & (user_wearing_time['pct_of_day_worn'] < 0.8),\n",
    "    user_wearing_time['pct_of_day_worn'] >= 0.8\n",
    "]\n",
    "\n",
    "labels = ['Worn Less Than Half Day', 'Worn More Than Half Day', 'Worn All Day']\n",
    "\n",
    "user_wearing_time['wearing_category'] = np.select(conditions, labels)"
   ]
  },
  {
   "cell_type": "code",
   "execution_count": 39,
   "metadata": {},
   "outputs": [
    {
     "data": {
      "text/html": [
       "<div>\n",
       "<style scoped>\n",
       "    .dataframe tbody tr th:only-of-type {\n",
       "        vertical-align: middle;\n",
       "    }\n",
       "\n",
       "    .dataframe tbody tr th {\n",
       "        vertical-align: top;\n",
       "    }\n",
       "\n",
       "    .dataframe thead th {\n",
       "        text-align: right;\n",
       "    }\n",
       "</style>\n",
       "<table border=\"1\" class=\"dataframe\">\n",
       "  <thead>\n",
       "    <tr style=\"text-align: right;\">\n",
       "      <th></th>\n",
       "      <th>Id</th>\n",
       "      <th>avg_wearing_time</th>\n",
       "      <th>pct_of_day_worn</th>\n",
       "      <th>wearing_category</th>\n",
       "    </tr>\n",
       "  </thead>\n",
       "  <tbody>\n",
       "    <tr>\n",
       "      <th>0</th>\n",
       "      <td>1503960366</td>\n",
       "      <td>1112.200000</td>\n",
       "      <td>0.772361</td>\n",
       "      <td>Worn More Than Half Day</td>\n",
       "    </tr>\n",
       "    <tr>\n",
       "      <th>1</th>\n",
       "      <td>1624580081</td>\n",
       "      <td>1416.200000</td>\n",
       "      <td>0.983472</td>\n",
       "      <td>Worn All Day</td>\n",
       "    </tr>\n",
       "    <tr>\n",
       "      <th>2</th>\n",
       "      <td>1644430081</td>\n",
       "      <td>1358.500000</td>\n",
       "      <td>0.943403</td>\n",
       "      <td>Worn All Day</td>\n",
       "    </tr>\n",
       "    <tr>\n",
       "      <th>3</th>\n",
       "      <td>1844505072</td>\n",
       "      <td>1287.720930</td>\n",
       "      <td>0.894251</td>\n",
       "      <td>Worn All Day</td>\n",
       "    </tr>\n",
       "    <tr>\n",
       "      <th>4</th>\n",
       "      <td>1927972279</td>\n",
       "      <td>1276.651163</td>\n",
       "      <td>0.886563</td>\n",
       "      <td>Worn All Day</td>\n",
       "    </tr>\n",
       "  </tbody>\n",
       "</table>\n",
       "</div>"
      ],
      "text/plain": [
       "           Id  avg_wearing_time  pct_of_day_worn         wearing_category\n",
       "0  1503960366       1112.200000         0.772361  Worn More Than Half Day\n",
       "1  1624580081       1416.200000         0.983472             Worn All Day\n",
       "2  1644430081       1358.500000         0.943403             Worn All Day\n",
       "3  1844505072       1287.720930         0.894251             Worn All Day\n",
       "4  1927972279       1276.651163         0.886563             Worn All Day"
      ]
     },
     "execution_count": 39,
     "metadata": {},
     "output_type": "execute_result"
    }
   ],
   "source": [
    "user_wearing_time.head()"
   ]
  },
  {
   "cell_type": "code",
   "execution_count": 40,
   "metadata": {},
   "outputs": [
    {
     "data": {
      "image/png": "[encoded data removed]",
      "text/plain": [
       "<Figure size 432x432 with 1 Axes>"
      ]
     },
     "metadata": {},
     "output_type": "display_data"
    }
   ],
   "source": [
    "#  Count users per wearing time category\n",
    "wearing_summary = user_wearing_time.groupby('wearing_category')['Id'].count().reset_index(name='user_count')\n",
    "wearing_summary = wearing_summary.sort_values(by='user_count', ascending=False)\n",
    "\n",
    "# Use the same Seaborn color palette\n",
    "plt.figure(figsize=(6, 6))\n",
    "plt.pie(wearing_summary['user_count'],\n",
    "        labels=wearing_summary['wearing_category'],\n",
    "        colors=colors,\n",
    "        autopct='%.0f%%',\n",
    "        startangle=140)\n",
    "\n",
    "plt.title('User Classification by Daily Device Wearing Time')\n",
    "plt.tight_layout()\n",
    "plt.show()"
   ]
  },
  {
   "cell_type": "markdown",
   "metadata": {},
   "source": [
    "The majority of users wore their device for more than half the day, with a notable portion wearing it all day. <br>\n",
    "This indicates high trust in the device for passive tracking and provides BellaBeat with an opportunity to further leverage passive features like like sleep tracking, heart rate monitoring, and sedentary alerts.\n",
    "\n"
   ]
  },
  {
   "cell_type": "markdown",
   "metadata": {},
   "source": [
    "### 4.4.  Consolidated User Classification and Correlation Analysis\n",
    "In this section, we integrate all user-level data(app engagement, daily step count, and device wearing time) to understand how different usage dimensions relate to each other. This comprehensive view allows us to identify potential user segments and behavioral patterns that can inform BellaBeat’s product design and marketing strategies.\n"
   ]
  },
  {
   "cell_type": "code",
   "execution_count": 41,
   "metadata": {},
   "outputs": [],
   "source": [
    "user_profiles = user_engagement[['Id', 'usage_category', 'usage_ratio']] \\\n",
    "    .merge(user_steps[['Id', 'activity_level', 'avg_daily_steps']], on='Id', how='outer') \\\n",
    "    .merge(user_wearing_time[['Id', 'wearing_category', 'pct_of_day_worn']], on='Id', how='outer')"
   ]
  },
  {
   "cell_type": "markdown",
   "metadata": {},
   "source": [
    "**Correlation Analysis** <br/>\n",
    "We assess the relationships between app engagement, physical activity, and device wearing time."
   ]
  },
  {
   "cell_type": "markdown",
   "metadata": {},
   "source": [
    "1. App Engagement vs. Physical Activity"
   ]
  },
  {
   "cell_type": "code",
   "execution_count": 42,
   "metadata": {},
   "outputs": [
    {
     "name": "stdout",
     "output_type": "stream",
     "text": [
      "Correlation between usage_ratio and avg_daily_steps: 0.297\n"
     ]
    }
   ],
   "source": [
    "correlation = user_profiles['usage_ratio'].corr(user_profiles['avg_daily_steps'])\n",
    "print(f\"Correlation between usage_ratio and avg_daily_steps: {correlation:.3f}\")"
   ]
  },
  {
   "cell_type": "markdown",
   "metadata": {},
   "source": [
    "Correlation: 0.297\n",
    "This indicates a weak positive correlation — users who log activity more consistently tend to take more daily steps. However, the strength is low, suggesting other factors may influence step count."
   ]
  },
  {
   "cell_type": "markdown",
   "metadata": {},
   "source": [
    "2. App Engagement vs. Device Wearing Time"
   ]
  },
  {
   "cell_type": "code",
   "execution_count": 43,
   "metadata": {},
   "outputs": [
    {
     "name": "stdout",
     "output_type": "stream",
     "text": [
      "Correlation between usage_ratio and pct_of_day_worn: -0.211\n"
     ]
    }
   ],
   "source": [
    "correlation = user_profiles['usage_ratio'].corr(user_profiles['pct_of_day_worn'])\n",
    "print(f\"Correlation between usage_ratio and pct_of_day_worn: {correlation:.3f}\")"
   ]
  },
  {
   "cell_type": "markdown",
   "metadata": {},
   "source": [
    "Correlation: -0.211\n",
    "There is a weak negative correlation — users who frequently log activity in the app might not wear the device all day. This could imply reliance on manual logging rather than passive tracking."
   ]
  },
  {
   "cell_type": "markdown",
   "metadata": {},
   "source": [
    "3. Physical Activity vs. Device Wearing Time"
   ]
  },
  {
   "cell_type": "code",
   "execution_count": 44,
   "metadata": {},
   "outputs": [
    {
     "name": "stdout",
     "output_type": "stream",
     "text": [
      "Correlation between avg_daily_steps and pct_of_day_worn: -0.164\n"
     ]
    }
   ],
   "source": [
    "correlation = user_profiles['avg_daily_steps'].corr(user_profiles['pct_of_day_worn'])\n",
    "print(f\"Correlation between avg_daily_steps and pct_of_day_worn: {correlation:.3f}\")"
   ]
  },
  {
   "cell_type": "markdown",
   "metadata": {},
   "source": [
    "Correlation: -0.164\n",
    "A slight negative correlation suggests that wearing the device longer doesn’t necessarily equate to higher physical activity. Some users may be sedentary even while wearing the tracker."
   ]
  },
  {
   "cell_type": "code",
   "execution_count": 45,
   "metadata": {},
   "outputs": [
    {
     "data": {
      "image/png": "[encoded data removed]",
      "text/plain": [
       "<Figure size 432x288 with 2 Axes>"
      ]
     },
     "metadata": {
      "needs_background": "light"
     },
     "output_type": "display_data"
    }
   ],
   "source": [
    "# Compute the correlation matrix\n",
    "corr_matrix = user_profiles[['usage_ratio', 'avg_daily_steps', 'pct_of_day_worn']].corr()\n",
    "\n",
    "# Create the heatmap\n",
    "plt.figure(figsize=(6, 4))\n",
    "sns.heatmap(corr_matrix,\n",
    "            annot=True,          # show correlation values\n",
    "            fmt='.2f',           # format as float with 2 decimals\n",
    "            cmap='coolwarm',     # diverging color scheme\n",
    "            vmin=-1, vmax=1,     # fix scale for consistency\n",
    "            square=True,         # make it square\n",
    "            linewidths=0.5,      # grid lines between cells\n",
    "            cbar_kws={\"shrink\": 0.75})  # smaller color bar\n",
    "\n",
    "plt.title('Correlation Heatmap: App Usage, Steps, Wearing Time')\n",
    "plt.tight_layout()\n",
    "plt.show()"
   ]
  },
  {
   "cell_type": "markdown",
   "metadata": {},
   "source": [
    "### 4.6. Classifying Weight Logging Behavior\n",
    "This section explores how users interact with the weight logging feature — specifically, whether logs are manual or automatic, how consistently users record their weight, and what that might reveal about engagement or friction points in the app."
   ]
  },
  {
   "cell_type": "markdown",
   "metadata": {},
   "source": [
    "**Manual vs Automatic Entries** <br>\n",
    "Each user's weight logs are either manually entered or automatically uploaded. By grouping entries by user (Id) and counting the number of unique IsManualReport values, we observe that:"
   ]
  },
  {
   "cell_type": "code",
   "execution_count": 46,
   "metadata": {},
   "outputs": [
    {
     "data": {
      "text/plain": [
       "Id\n",
       "1503960366    1\n",
       "1927972279    1\n",
       "2347167796    1\n",
       "2873212765    1\n",
       "2891001357    1\n",
       "4319703577    1\n",
       "4445114986    1\n",
       "4558609924    1\n",
       "4702921684    1\n",
       "5577150313    1\n",
       "6962181067    1\n",
       "8253242879    1\n",
       "8877689391    1\n",
       "Name: IsManualReport, dtype: int64"
      ]
     },
     "execution_count": 46,
     "metadata": {},
     "output_type": "execute_result"
    }
   ],
   "source": [
    "df_weightLogInfo.groupby('Id')['IsManualReport'].nunique()"
   ]
  },
  {
   "cell_type": "markdown",
   "metadata": {},
   "source": [
    "All users are consistent — if a user starts logging manually or automatically, they continue doing so without switching.\n",
    "\n",
    "Next, we check how many users rely on manual entry:"
   ]
  },
  {
   "cell_type": "code",
   "execution_count": 47,
   "metadata": {},
   "outputs": [
    {
     "name": "stdout",
     "output_type": "stream",
     "text": [
      "Number of users who logged the weight manually: 10\n",
      "Number of users who logged the weight automatically: 3\n"
     ]
    }
   ],
   "source": [
    "# Manually logging users\n",
    "manual_users = df_weightLogInfo[df_weightLogInfo['IsManualReport'] == True]['Id'].nunique()\n",
    "print(f\"Number of users who logged the weight manually: {manual_users}\")\n",
    "\n",
    "# Automatically logging users\n",
    "auto_users = df_weightLogInfo[df_weightLogInfo['IsManualReport'] == False]['Id'].nunique()\n",
    "print(f\"Number of users who logged the weight automatically: {auto_users}\")\n"
   ]
  },
  {
   "cell_type": "markdown",
   "metadata": {},
   "source": [
    "10 out of 13 users (77%) manually log their weight, suggesting that automatic syncing may not be widely adopted or understood.\n",
    "\n",
    "**Logging Days of the Week**<br>\n",
    "We analyze which days users tend to log their weight:"
   ]
  },
  {
   "cell_type": "code",
   "execution_count": 48,
   "metadata": {},
   "outputs": [
    {
     "data": {
      "text/plain": [
       "Day\n",
       "Wednesday    17\n",
       "Monday       17\n",
       "Thursday     16\n",
       "Sunday       14\n",
       "Tuesday      13\n",
       "Friday       11\n",
       "Saturday     10\n",
       "dtype: int64"
      ]
     },
     "execution_count": 48,
     "metadata": {},
     "output_type": "execute_result"
    }
   ],
   "source": [
    "df_weightLogInfo['Day'] = df_weightLogInfo['Date'].dt.day_name()\n",
    "df_weightLogInfo.groupby('Day').size().sort_values(ascending=False)\n"
   ]
  },
  {
   "cell_type": "markdown",
   "metadata": {},
   "source": [
    "Logs are fairly evenly distributed across weekdays, with Monday and Wednesday being slightly more common logging days. This might align with weekly goal-setting or routine check-ins."
   ]
  },
  {
   "cell_type": "markdown",
   "metadata": {},
   "source": [
    "**Logging Frequency (Gaps Between Logs)** <br>\n",
    "To assess how regularly users update their weight, we calculate the average number of days between each user's entries:"
   ]
  },
  {
   "cell_type": "code",
   "execution_count": 49,
   "metadata": {},
   "outputs": [],
   "source": [
    "temp2 = df_weightLogInfo.copy()\n",
    "temp2 = temp2.sort_values(by=['Id', 'Date'])\n",
    "temp2['prev_date'] = temp2.groupby('Id')['Date'].shift(1)\n",
    "temp2['date_diff'] = (temp2['Date'] - temp2['prev_date']).dt.days.fillna(0)\n",
    "\n",
    "avg_gap = temp2.groupby('Id')['date_diff'].mean().reset_index()\n",
    "avg_gap['rounded_gap'] = avg_gap['date_diff'].apply(lambda x: round(x))\n",
    "\n",
    "gap_distribution = avg_gap.groupby('rounded_gap')['Id'].count().reset_index(name='user_count')\n"
   ]
  },
  {
   "cell_type": "code",
   "execution_count": 50,
   "metadata": {},
   "outputs": [
    {
     "data": {
      "image/png": "[encoded data removed]",
      "text/plain": [
       "<Figure size 432x288 with 1 Axes>"
      ]
     },
     "metadata": {
      "needs_background": "light"
     },
     "output_type": "display_data"
    }
   ],
   "source": [
    "sns.barplot(x='rounded_gap', y='user_count', data=gap_distribution)\n",
    "plt.title('Average Days Between Weight Logs per User')\n",
    "plt.xlabel('Average Gap (Days)')\n",
    "plt.ylabel('Number of Users')\n",
    "plt.show()"
   ]
  },
  {
   "cell_type": "markdown",
   "metadata": {},
   "source": [
    "About 6 users logged weight only once, and a few others showed short bursts of activity. This pattern suggests low retention or a testing-only behavior for many users."
   ]
  },
  {
   "cell_type": "markdown",
   "metadata": {},
   "source": [
    "### 4.7. Classifying Correlationship Between Sleep Quality and Activity Level\n",
    "This section investigates whether a user’s physical activity level is associated with their sleep efficiency or sleep duration.\n",
    "\n",
    "**Defining Sleep Quality Metrics** <br>\n",
    "We use the following criteria to evaluate user sleep quality:\n",
    "\n",
    "Sleep Efficiency: Defined as TotalMinutesAsleep / TotalTimeInBed. <br>\n",
    "* If average sleep efficiency ≥ 85%, it's considered good. <br>\n",
    "Reference: [How is sleep quality calculated](https://www.sleepfoundation.org/sleep-hygiene/how-is-sleep-quality-calculated)\n",
    "\n",
    "Sleep Duration:\n",
    "Converted to hours.\n",
    "Users are categorized as:\n",
    "\n",
    "* Undersleeping: < 7 hours\n",
    "\n",
    "* Sleeping well: 7–9 hours\n",
    "\n",
    "* Oversleeping: > 9 hours <br>\n",
    "Reference: [NHLBI - How much sleep](https://www.nhlbi.nih.gov/health/sleep/how-much-sleep)"
   ]
  },
  {
   "cell_type": "code",
   "execution_count": 51,
   "metadata": {},
   "outputs": [],
   "source": [
    "# Calcaulte sleep efficiency\n",
    "df_sleepDay['sleepEfficiency'] = df_sleepDay['TotalMinutesAsleep']/df_sleepDay['TotalTimeInBed']\n",
    "\n",
    "# Aggregate average sleep efficiency and duration per user\n",
    "user_sleep_quality = df_sleepDay.groupby('Id').agg(\n",
    "    sleepEfficiency = ('sleepEfficiency', 'mean'),\n",
    "    sleepingHours = ('TotalMinutesAsleep', 'mean')\n",
    ").reset_index()\n",
    "\n",
    "# Convert sleep duration to hours\n",
    "user_sleep_quality['sleepingHours'] = (user_sleep_quality['sleepingHours']/60).astype(int)\n",
    "\n",
    "# Categorize sleep efficiency\n",
    "user_sleep_quality['sleepEfficiency_category'] = np.where(user_sleep_quality['sleepEfficiency'] < 0.85, \\\n",
    "                                                          'low sleep efficiency', \\\n",
    "                                                          'good sleep efficiency')"
   ]
  },
  {
   "cell_type": "code",
   "execution_count": 52,
   "metadata": {},
   "outputs": [],
   "source": [
    "# Categorize sleep duration\n",
    "col = 'sleepingHours'\n",
    "conditions = [user_sleep_quality[col] < 7, \\\n",
    "              (user_sleep_quality[col] >= 7) & (user_sleep_quality[col] <= 9), \n",
    "              user_sleep_quality[col] > 9\\\n",
    "             ]\n",
    "label = ['undersleeping', 'sleeping well', 'oversleeping']\n",
    "\n",
    "user_sleep_quality['sleepingHours_category'] = np.select(conditions, label)"
   ]
  },
  {
   "cell_type": "code",
   "execution_count": 53,
   "metadata": {},
   "outputs": [],
   "source": [
    "# Now merge with user profiles\n",
    "user_profiles = user_profiles.merge(user_sleep_quality, how = 'left', on = 'Id')"
   ]
  },
  {
   "cell_type": "code",
   "execution_count": 54,
   "metadata": {
    "scrolled": true
   },
   "outputs": [
    {
     "data": {
      "text/html": [
       "<div>\n",
       "<style scoped>\n",
       "    .dataframe tbody tr th:only-of-type {\n",
       "        vertical-align: middle;\n",
       "    }\n",
       "\n",
       "    .dataframe tbody tr th {\n",
       "        vertical-align: top;\n",
       "    }\n",
       "\n",
       "    .dataframe thead th {\n",
       "        text-align: right;\n",
       "    }\n",
       "</style>\n",
       "<table border=\"1\" class=\"dataframe\">\n",
       "  <thead>\n",
       "    <tr style=\"text-align: right;\">\n",
       "      <th></th>\n",
       "      <th>Id</th>\n",
       "      <th>usage_category</th>\n",
       "      <th>usage_ratio</th>\n",
       "      <th>activity_level</th>\n",
       "      <th>avg_daily_steps</th>\n",
       "      <th>wearing_category</th>\n",
       "      <th>pct_of_day_worn</th>\n",
       "      <th>sleepEfficiency</th>\n",
       "      <th>sleepingHours</th>\n",
       "      <th>sleepEfficiency_category</th>\n",
       "      <th>sleepingHours_category</th>\n",
       "    </tr>\n",
       "  </thead>\n",
       "  <tbody>\n",
       "    <tr>\n",
       "      <th>0</th>\n",
       "      <td>1503960366</td>\n",
       "      <td>Heavy User</td>\n",
       "      <td>0.816667</td>\n",
       "      <td>Very Active</td>\n",
       "      <td>11935.780000</td>\n",
       "      <td>Worn More Than Half Day</td>\n",
       "      <td>0.772361</td>\n",
       "      <td>0.936385</td>\n",
       "      <td>6.0</td>\n",
       "      <td>good sleep efficiency</td>\n",
       "      <td>undersleeping</td>\n",
       "    </tr>\n",
       "    <tr>\n",
       "      <th>1</th>\n",
       "      <td>1624580081</td>\n",
       "      <td>Heavy User</td>\n",
       "      <td>0.816667</td>\n",
       "      <td>Lightly Active</td>\n",
       "      <td>5167.200000</td>\n",
       "      <td>Worn All Day</td>\n",
       "      <td>0.983472</td>\n",
       "      <td>NaN</td>\n",
       "      <td>NaN</td>\n",
       "      <td>NaN</td>\n",
       "      <td>NaN</td>\n",
       "    </tr>\n",
       "    <tr>\n",
       "      <th>2</th>\n",
       "      <td>1644430081</td>\n",
       "      <td>Medium User</td>\n",
       "      <td>0.666667</td>\n",
       "      <td>Fairly Active</td>\n",
       "      <td>7780.925000</td>\n",
       "      <td>Worn All Day</td>\n",
       "      <td>0.943403</td>\n",
       "      <td>0.882040</td>\n",
       "      <td>4.0</td>\n",
       "      <td>good sleep efficiency</td>\n",
       "      <td>undersleeping</td>\n",
       "    </tr>\n",
       "    <tr>\n",
       "      <th>3</th>\n",
       "      <td>1844505072</td>\n",
       "      <td>Medium User</td>\n",
       "      <td>0.700000</td>\n",
       "      <td>Sedentary</td>\n",
       "      <td>2876.023256</td>\n",
       "      <td>Worn All Day</td>\n",
       "      <td>0.894251</td>\n",
       "      <td>0.678460</td>\n",
       "      <td>10.0</td>\n",
       "      <td>low sleep efficiency</td>\n",
       "      <td>oversleeping</td>\n",
       "    </tr>\n",
       "    <tr>\n",
       "      <th>4</th>\n",
       "      <td>1927972279</td>\n",
       "      <td>Medium User</td>\n",
       "      <td>0.700000</td>\n",
       "      <td>Sedentary</td>\n",
       "      <td>1269.069767</td>\n",
       "      <td>Worn All Day</td>\n",
       "      <td>0.886563</td>\n",
       "      <td>0.947008</td>\n",
       "      <td>6.0</td>\n",
       "      <td>good sleep efficiency</td>\n",
       "      <td>undersleeping</td>\n",
       "    </tr>\n",
       "  </tbody>\n",
       "</table>\n",
       "</div>"
      ],
      "text/plain": [
       "           Id usage_category  usage_ratio  activity_level  avg_daily_steps  \\\n",
       "0  1503960366     Heavy User     0.816667     Very Active     11935.780000   \n",
       "1  1624580081     Heavy User     0.816667  Lightly Active      5167.200000   \n",
       "2  1644430081    Medium User     0.666667   Fairly Active      7780.925000   \n",
       "3  1844505072    Medium User     0.700000       Sedentary      2876.023256   \n",
       "4  1927972279    Medium User     0.700000       Sedentary      1269.069767   \n",
       "\n",
       "          wearing_category  pct_of_day_worn  sleepEfficiency  sleepingHours  \\\n",
       "0  Worn More Than Half Day         0.772361         0.936385            6.0   \n",
       "1             Worn All Day         0.983472              NaN            NaN   \n",
       "2             Worn All Day         0.943403         0.882040            4.0   \n",
       "3             Worn All Day         0.894251         0.678460           10.0   \n",
       "4             Worn All Day         0.886563         0.947008            6.0   \n",
       "\n",
       "  sleepEfficiency_category sleepingHours_category  \n",
       "0    good sleep efficiency          undersleeping  \n",
       "1                      NaN                    NaN  \n",
       "2    good sleep efficiency          undersleeping  \n",
       "3     low sleep efficiency           oversleeping  \n",
       "4    good sleep efficiency          undersleeping  "
      ]
     },
     "execution_count": 54,
     "metadata": {},
     "output_type": "execute_result"
    }
   ],
   "source": [
    "user_profiles.head()"
   ]
  },
  {
   "cell_type": "code",
   "execution_count": 55,
   "metadata": {},
   "outputs": [],
   "source": [
    "# Count number of users in each sleep-efficiency category\n",
    "user_profiles_sleep_efficiency_summary = user_profiles.groupby(['activity_level', 'sleepEfficiency_category'])['Id'].size().reset_index()"
   ]
  },
  {
   "cell_type": "code",
   "execution_count": 56,
   "metadata": {},
   "outputs": [
    {
     "data": {
      "text/html": [
       "<div>\n",
       "<style scoped>\n",
       "    .dataframe tbody tr th:only-of-type {\n",
       "        vertical-align: middle;\n",
       "    }\n",
       "\n",
       "    .dataframe tbody tr th {\n",
       "        vertical-align: top;\n",
       "    }\n",
       "\n",
       "    .dataframe thead th {\n",
       "        text-align: right;\n",
       "    }\n",
       "</style>\n",
       "<table border=\"1\" class=\"dataframe\">\n",
       "  <thead>\n",
       "    <tr style=\"text-align: right;\">\n",
       "      <th></th>\n",
       "      <th>activity_level</th>\n",
       "      <th>sleepEfficiency_category</th>\n",
       "      <th>Id</th>\n",
       "    </tr>\n",
       "  </thead>\n",
       "  <tbody>\n",
       "    <tr>\n",
       "      <th>0</th>\n",
       "      <td>Fairly Active</td>\n",
       "      <td>good sleep efficiency</td>\n",
       "      <td>8</td>\n",
       "    </tr>\n",
       "    <tr>\n",
       "      <th>1</th>\n",
       "      <td>Lightly Active</td>\n",
       "      <td>good sleep efficiency</td>\n",
       "      <td>3</td>\n",
       "    </tr>\n",
       "    <tr>\n",
       "      <th>2</th>\n",
       "      <td>Sedentary</td>\n",
       "      <td>good sleep efficiency</td>\n",
       "      <td>7</td>\n",
       "    </tr>\n",
       "    <tr>\n",
       "      <th>3</th>\n",
       "      <td>Sedentary</td>\n",
       "      <td>low sleep efficiency</td>\n",
       "      <td>1</td>\n",
       "    </tr>\n",
       "    <tr>\n",
       "      <th>4</th>\n",
       "      <td>Very Active</td>\n",
       "      <td>good sleep efficiency</td>\n",
       "      <td>4</td>\n",
       "    </tr>\n",
       "  </tbody>\n",
       "</table>\n",
       "</div>"
      ],
      "text/plain": [
       "   activity_level sleepEfficiency_category  Id\n",
       "0   Fairly Active    good sleep efficiency   8\n",
       "1  Lightly Active    good sleep efficiency   3\n",
       "2       Sedentary    good sleep efficiency   7\n",
       "3       Sedentary     low sleep efficiency   1\n",
       "4     Very Active    good sleep efficiency   4"
      ]
     },
     "execution_count": 56,
     "metadata": {},
     "output_type": "execute_result"
    }
   ],
   "source": [
    "user_profiles_sleep_efficiency_summary.head()"
   ]
  },
  {
   "cell_type": "markdown",
   "metadata": {},
   "source": [
    "**Sleep Efficiency vs. Activity Level**"
   ]
  },
  {
   "cell_type": "code",
   "execution_count": 57,
   "metadata": {},
   "outputs": [
    {
     "data": {
      "image/png": "[encoded data removed]",
      "text/plain": [
       "<Figure size 720x432 with 1 Axes>"
      ]
     },
     "metadata": {},
     "output_type": "display_data"
    }
   ],
   "source": [
    "# Set plot style\n",
    "sns.set(style=\"whitegrid\")\n",
    "\n",
    "# Plot count of combinations\n",
    "plt.figure(figsize=(10, 6))\n",
    "sns.barplot(data=user_profiles_sleep_efficiency_summary, x='activity_level', hue='sleepEfficiency_category', y= 'Id')\n",
    "\n",
    "# Titles and labels\n",
    "plt.title('Record Count by Activity Level and Sleep Efficiency Category')\n",
    "plt.xlabel('Activity Level')\n",
    "plt.ylabel('Record Count')\n",
    "plt.legend(title='Sleep Efficiency Category')\n",
    "plt.tight_layout()\n",
    "\n",
    "plt.show()"
   ]
  },
  {
   "cell_type": "markdown",
   "metadata": {},
   "source": [
    "Most users, across all activity levels, achieve good sleep efficiency. <br/>\n",
    "Only 2 users show low sleep efficiency, so there's no clear pattern suggesting activity level affects sleep efficiency."
   ]
  },
  {
   "cell_type": "code",
   "execution_count": 58,
   "metadata": {},
   "outputs": [],
   "source": [
    "# Count number of users in each number of sleeping hours category\n",
    "user_profiles_sleep_quantity_summary = user_profiles.groupby(['activity_level', 'sleepingHours_category'])['Id'].size().reset_index()"
   ]
  },
  {
   "cell_type": "code",
   "execution_count": 59,
   "metadata": {},
   "outputs": [
    {
     "data": {
      "text/html": [
       "<div>\n",
       "<style scoped>\n",
       "    .dataframe tbody tr th:only-of-type {\n",
       "        vertical-align: middle;\n",
       "    }\n",
       "\n",
       "    .dataframe tbody tr th {\n",
       "        vertical-align: top;\n",
       "    }\n",
       "\n",
       "    .dataframe thead th {\n",
       "        text-align: right;\n",
       "    }\n",
       "</style>\n",
       "<table border=\"1\" class=\"dataframe\">\n",
       "  <thead>\n",
       "    <tr style=\"text-align: right;\">\n",
       "      <th></th>\n",
       "      <th>activity_level</th>\n",
       "      <th>sleepingHours_category</th>\n",
       "      <th>Id</th>\n",
       "    </tr>\n",
       "  </thead>\n",
       "  <tbody>\n",
       "    <tr>\n",
       "      <th>0</th>\n",
       "      <td>Fairly Active</td>\n",
       "      <td>sleeping well</td>\n",
       "      <td>5</td>\n",
       "    </tr>\n",
       "    <tr>\n",
       "      <th>1</th>\n",
       "      <td>Fairly Active</td>\n",
       "      <td>undersleeping</td>\n",
       "      <td>3</td>\n",
       "    </tr>\n",
       "    <tr>\n",
       "      <th>2</th>\n",
       "      <td>Lightly Active</td>\n",
       "      <td>sleeping well</td>\n",
       "      <td>2</td>\n",
       "    </tr>\n",
       "    <tr>\n",
       "      <th>3</th>\n",
       "      <td>Lightly Active</td>\n",
       "      <td>undersleeping</td>\n",
       "      <td>1</td>\n",
       "    </tr>\n",
       "    <tr>\n",
       "      <th>4</th>\n",
       "      <td>Sedentary</td>\n",
       "      <td>oversleeping</td>\n",
       "      <td>1</td>\n",
       "    </tr>\n",
       "  </tbody>\n",
       "</table>\n",
       "</div>"
      ],
      "text/plain": [
       "   activity_level sleepingHours_category  Id\n",
       "0   Fairly Active          sleeping well   5\n",
       "1   Fairly Active          undersleeping   3\n",
       "2  Lightly Active          sleeping well   2\n",
       "3  Lightly Active          undersleeping   1\n",
       "4       Sedentary           oversleeping   1"
      ]
     },
     "execution_count": 59,
     "metadata": {},
     "output_type": "execute_result"
    }
   ],
   "source": [
    "user_profiles_sleep_quantity_summary.head()"
   ]
  },
  {
   "cell_type": "markdown",
   "metadata": {},
   "source": [
    "**Sleep Duration vs. Activity Level**"
   ]
  },
  {
   "cell_type": "code",
   "execution_count": 60,
   "metadata": {},
   "outputs": [
    {
     "data": {
      "image/png": "[encoded data removed]",
      "text/plain": [
       "<Figure size 720x432 with 1 Axes>"
      ]
     },
     "metadata": {},
     "output_type": "display_data"
    }
   ],
   "source": [
    "# Set plot style\n",
    "sns.set(style=\"whitegrid\")\n",
    "\n",
    "# Plot count of combinations\n",
    "plt.figure(figsize=(10, 6))\n",
    "sns.barplot(data=user_profiles_sleep_quantity_summary, x='activity_level', hue='sleepingHours_category', y= 'Id')\n",
    "\n",
    "# Titles and labels\n",
    "plt.title('Record Count by Activity Level and Sleep Duration Category')\n",
    "plt.xlabel('Activity Level')\n",
    "plt.ylabel('Record Count')\n",
    "plt.legend(title='Sleep Duration Category')\n",
    "plt.tight_layout()\n",
    "\n",
    "plt.show()"
   ]
  },
  {
   "cell_type": "markdown",
   "metadata": {},
   "source": [
    "* Sedentary users are the most likely to undersleep, though a few oversleep as well.\n",
    "* Fairly and lightly active users mostly sleep well.\n",
    "* Very active users surprisingly tend toward undersleeping."
   ]
  },
  {
   "cell_type": "markdown",
   "metadata": {},
   "source": [
    "There is no strong or consistent relationship between a user's average activity level and sleep quality (either by efficiency or duration). Therefore, Activity level alone is not a strong predictor of sleep quality.\n",
    "\n",
    "Now, we turn to hourly intensity data to investigate whether the time of day users are most active could influence their sleep behaviors. "
   ]
  },
  {
   "cell_type": "markdown",
   "metadata": {},
   "source": [
    "### 4.8. Relationship Between Time of Peak Activity and Sleep Quality\n",
    "\n",
    "After observing no strong correlation between overall activity level and sleep quality, we explored whether the time of peak physical activity within the day could affect sleep behaviors.\n",
    "\n",
    "To do this, we analyzed the hourly intensity data, matched it with daily sleep records, and categorized users based on the part of the day when their highest intensity occurred.\n",
    "\n",
    "**Categorizing Time of Day** <br>\n",
    "Each hour was categorized into one of four time ranges:\n",
    "\n",
    "* Morning: 05:00–11:59\n",
    "* Afternoon: 12:00–16:59\n",
    "* Evening: 17:00–20:59\n",
    "* Night: 21:00–04:59"
   ]
  },
  {
   "cell_type": "code",
   "execution_count": 61,
   "metadata": {},
   "outputs": [],
   "source": [
    "# Define conditions\n",
    "conditions = [\n",
    "    (df_hourlyIntensities['hour'] >= 5) & (df_hourlyIntensities['hour'] < 12),\n",
    "    (df_hourlyIntensities['hour'] >= 12) & (df_hourlyIntensities['hour'] < 17),\n",
    "    (df_hourlyIntensities['hour'] >= 17) & (df_hourlyIntensities['hour'] < 21),\n",
    "    (df_hourlyIntensities['hour'] >= 21) | (df_hourlyIntensities['hour'] < 5)\n",
    "]\n",
    "\n",
    "# Define corresponding labels\n",
    "labels = ['Morning', 'Afternoon', 'Evening', 'Night']\n",
    "\n",
    "df_hourlyIntensities['part_of_day'] = np.select(conditions, labels)\n",
    "\n",
    "df_hourlyIntensities = df_hourlyIntensities.merge(df_sleepDay, how = 'inner', on = ['Id', 'Date'])\n",
    "\n",
    "# Convert TotalMinutesAsleep to TotalHoursAsleep\n",
    "df_hourlyIntensities['TotalHoursAsleep'] = (df_hourlyIntensities['TotalMinutesAsleep']/60).astype(int)"
   ]
  },
  {
   "cell_type": "code",
   "execution_count": 68,
   "metadata": {},
   "outputs": [
    {
     "data": {
      "text/html": [
       "<div>\n",
       "<style scoped>\n",
       "    .dataframe tbody tr th:only-of-type {\n",
       "        vertical-align: middle;\n",
       "    }\n",
       "\n",
       "    .dataframe tbody tr th {\n",
       "        vertical-align: top;\n",
       "    }\n",
       "\n",
       "    .dataframe thead th {\n",
       "        text-align: right;\n",
       "    }\n",
       "</style>\n",
       "<table border=\"1\" class=\"dataframe\">\n",
       "  <thead>\n",
       "    <tr style=\"text-align: right;\">\n",
       "      <th></th>\n",
       "      <th>Id</th>\n",
       "      <th>Date</th>\n",
       "      <th>TotalIntensity</th>\n",
       "      <th>AverageIntensity</th>\n",
       "      <th>Time</th>\n",
       "      <th>hour</th>\n",
       "      <th>part_of_day</th>\n",
       "      <th>TotalMinutesAsleep</th>\n",
       "      <th>TotalTimeInBed</th>\n",
       "      <th>sleepEfficiency</th>\n",
       "      <th>TotalHoursAsleep</th>\n",
       "    </tr>\n",
       "  </thead>\n",
       "  <tbody>\n",
       "    <tr>\n",
       "      <th>0</th>\n",
       "      <td>1927972279</td>\n",
       "      <td>2016-04-12</td>\n",
       "      <td>0</td>\n",
       "      <td>0.000000</td>\n",
       "      <td>00:00:00</td>\n",
       "      <td>0</td>\n",
       "      <td>Night</td>\n",
       "      <td>750</td>\n",
       "      <td>775</td>\n",
       "      <td>0.967742</td>\n",
       "      <td>12</td>\n",
       "    </tr>\n",
       "    <tr>\n",
       "      <th>1</th>\n",
       "      <td>1927972279</td>\n",
       "      <td>2016-04-12</td>\n",
       "      <td>0</td>\n",
       "      <td>0.000000</td>\n",
       "      <td>01:00:00</td>\n",
       "      <td>1</td>\n",
       "      <td>Night</td>\n",
       "      <td>750</td>\n",
       "      <td>775</td>\n",
       "      <td>0.967742</td>\n",
       "      <td>12</td>\n",
       "    </tr>\n",
       "    <tr>\n",
       "      <th>2</th>\n",
       "      <td>1927972279</td>\n",
       "      <td>2016-04-12</td>\n",
       "      <td>0</td>\n",
       "      <td>0.000000</td>\n",
       "      <td>02:00:00</td>\n",
       "      <td>2</td>\n",
       "      <td>Night</td>\n",
       "      <td>750</td>\n",
       "      <td>775</td>\n",
       "      <td>0.967742</td>\n",
       "      <td>12</td>\n",
       "    </tr>\n",
       "    <tr>\n",
       "      <th>3</th>\n",
       "      <td>1927972279</td>\n",
       "      <td>2016-04-12</td>\n",
       "      <td>0</td>\n",
       "      <td>0.000000</td>\n",
       "      <td>03:00:00</td>\n",
       "      <td>3</td>\n",
       "      <td>Night</td>\n",
       "      <td>750</td>\n",
       "      <td>775</td>\n",
       "      <td>0.967742</td>\n",
       "      <td>12</td>\n",
       "    </tr>\n",
       "    <tr>\n",
       "      <th>4</th>\n",
       "      <td>1927972279</td>\n",
       "      <td>2016-04-12</td>\n",
       "      <td>1</td>\n",
       "      <td>0.016667</td>\n",
       "      <td>04:00:00</td>\n",
       "      <td>4</td>\n",
       "      <td>Night</td>\n",
       "      <td>750</td>\n",
       "      <td>775</td>\n",
       "      <td>0.967742</td>\n",
       "      <td>12</td>\n",
       "    </tr>\n",
       "  </tbody>\n",
       "</table>\n",
       "</div>"
      ],
      "text/plain": [
       "           Id       Date  TotalIntensity  AverageIntensity      Time  hour  \\\n",
       "0  1927972279 2016-04-12               0          0.000000  00:00:00     0   \n",
       "1  1927972279 2016-04-12               0          0.000000  01:00:00     1   \n",
       "2  1927972279 2016-04-12               0          0.000000  02:00:00     2   \n",
       "3  1927972279 2016-04-12               0          0.000000  03:00:00     3   \n",
       "4  1927972279 2016-04-12               1          0.016667  04:00:00     4   \n",
       "\n",
       "  part_of_day  TotalMinutesAsleep  TotalTimeInBed  sleepEfficiency  \\\n",
       "0       Night                 750             775         0.967742   \n",
       "1       Night                 750             775         0.967742   \n",
       "2       Night                 750             775         0.967742   \n",
       "3       Night                 750             775         0.967742   \n",
       "4       Night                 750             775         0.967742   \n",
       "\n",
       "   TotalHoursAsleep  \n",
       "0                12  \n",
       "1                12  \n",
       "2                12  \n",
       "3                12  \n",
       "4                12  "
      ]
     },
     "execution_count": 68,
     "metadata": {},
     "output_type": "execute_result"
    }
   ],
   "source": [
    "df_hourlyIntensities.head()"
   ]
  },
  {
   "cell_type": "code",
   "execution_count": 63,
   "metadata": {},
   "outputs": [],
   "source": [
    "# Identify the peak intensity for each user per day\n",
    "df_user_max_intensity = df_hourlyIntensities.groupby(['Id', 'Date'])['TotalIntensity'].max().reset_index()"
   ]
  },
  {
   "cell_type": "code",
   "execution_count": 64,
   "metadata": {},
   "outputs": [],
   "source": [
    "# Merge back with df_user_max_intensity to get the timeframe when the user's activity was most intense.\n",
    "df_user_max_intensity = df_user_max_intensity.merge(df_hourlyIntensities[['Id', 'Date', 'TotalIntensity', 'Time', 'TotalHoursAsleep', 'sleepEfficiency', 'part_of_day']], \\\n",
    "                                                    how = 'inner', on = ['Id', 'Date', 'TotalIntensity'])"
   ]
  },
  {
   "cell_type": "code",
   "execution_count": 65,
   "metadata": {},
   "outputs": [],
   "source": [
    "# Categorize sleep quality based on a threshold of 85% efficient.\n",
    "df_user_max_intensity['sleepEfficiency_category'] = np.where(df_user_max_intensity['sleepEfficiency'] < 0.85, 'low sleep efficiency', 'good sleep efficiency')\n",
    "\n",
    "# Sleeping 7-9 hours is considered healthy. \n",
    "col = 'TotalHoursAsleep'\n",
    "conditions = [df_user_max_intensity[col] < 7, \\\n",
    "              (df_user_max_intensity[col] >= 7) & (df_user_max_intensity[col] <= 9), \n",
    "              df_user_max_intensity[col] > 9\\\n",
    "             ]\n",
    "label = ['undersleeping', 'sleeping well', 'oversleeping']\n",
    "\n",
    "df_user_max_intensity['sleepingHours_category'] = np.select(conditions, label)"
   ]
  },
  {
   "cell_type": "code",
   "execution_count": 66,
   "metadata": {},
   "outputs": [
    {
     "data": {
      "image/png": "[encoded data removed]",
      "text/plain": [
       "<Figure size 720x432 with 1 Axes>"
      ]
     },
     "metadata": {},
     "output_type": "display_data"
    }
   ],
   "source": [
    "# Set plot style\n",
    "sns.set(style=\"whitegrid\")\n",
    "\n",
    "# Plot count of combinations\n",
    "plt.figure(figsize=(10, 6))\n",
    "sns.countplot(data=df_user_max_intensity, x='part_of_day', hue='sleepEfficiency_category')\n",
    "\n",
    "# Titles and labels\n",
    "plt.title('Record Count by Part of Day and Sleep Efficiency Category')\n",
    "plt.xlabel('Part of Day')\n",
    "plt.ylabel('Record Count')\n",
    "plt.legend(title='Sleep Efficiency Category')\n",
    "plt.tight_layout()\n",
    "\n",
    "plt.show()"
   ]
  },
  {
   "cell_type": "code",
   "execution_count": 67,
   "metadata": {
    "scrolled": true
   },
   "outputs": [
    {
     "data": {
      "image/png": "[encoded data removed]",
      "text/plain": [
       "<Figure size 720x432 with 1 Axes>"
      ]
     },
     "metadata": {},
     "output_type": "display_data"
    }
   ],
   "source": [
    "# Set plot style\n",
    "sns.set(style=\"whitegrid\")\n",
    "\n",
    "# Plot count of combinations\n",
    "plt.figure(figsize=(10, 6))\n",
    "sns.countplot(data=df_user_max_intensity, x='part_of_day', hue='sleepingHours_category')\n",
    "\n",
    "# Titles and labels\n",
    "plt.title('Record Count by Part of Day and Sleep Duration Category')\n",
    "plt.xlabel('Part of Day')\n",
    "plt.ylabel('Record Count')\n",
    "plt.legend(title='Sleep Duration Category')\n",
    "\n",
    "\n",
    "plt.show()"
   ]
  },
  {
   "cell_type": "markdown",
   "metadata": {},
   "source": [
    "It shows being most active in the morning appears to be associated with better sleep outcomes:\n",
    "\n",
    "Morning-active users have the highest proportion of good sleep efficiency (137 out of 140 = 98%).\n",
    "They also show fewer cases of oversleeping or severe undersleeping than evening or night-active users.\n",
    "Also, afternoon and evening activity also correlate with high sleep efficiency — just not as strongly as morning.\n",
    "Night activity appears least beneficial for sleep quality.\n",
    "\n",
    "So, timing of physical activity, particularly morning movement, may be an influential factor in improving sleep quality."
   ]
  },
  {
   "cell_type": "markdown",
   "metadata": {},
   "source": [
    "## 5. Conclusion & Strategic Recommendations\n",
    "Based on the analysis of smart device usage data, several key trends emerged that can inform Bellabeat’s product development and marketing strategies.\n",
    "\n",
    "**1. Trends in Smart Device Usage** <br>\n",
    "- Majority of users engage moderately with apps: <br>\n",
    "Most users (30 out of 35) fall under the medium usage category—indicating frequent but not daily engagement. Only 3 are heavy users, and 2 are light users.\n",
    "\n",
    "\n",
    "- Users are generally wearing their devices throughout the day:<br>\n",
    "The majority wear their device for more than half the day, with a significant portion wearing it all day. This suggests users trust their devices to passively collect data.\n",
    "\n",
    "\n",
    "- Weak correlation between wear time and app use: <br>\n",
    "Some users wear their devices consistently but rarely open the app, indicating a missed opportunity to convert passive engagement into active interaction.\n",
    "\n",
    "\n",
    "- Manual weight logging dominates: <br>\n",
    "Most users log their weight manually and do so only once or sporadically. This may signal friction in setup or low perceived value in ongoing tracking.\n",
    "\n",
    "\n",
    "- Morning activity is associated with better sleep: <br>\n",
    "Users most active in the morning show the highest rates of good sleep efficiency (98%) and more balanced sleep duration.\n",
    "In contrast, users most active at night show the weakest sleep outcomes. This suggests that timing of physical activity, especially in the morning, may positively influence sleep quality.\n",
    "\n",
    "\n",
    "\n",
    "**2. Implications for Bellabeat Customers** <br>\n",
    "These patterns suggest that Bellabeat users are likely open to passive tracking and casual engagement, but often don’t take the next step toward full commitment. Many may lack awareness of features like automatic weight syncing or don’t yet perceive the benefit of continuous use.\n",
    "\n",
    "**3. Strategic Recommendations for Bellabeat** <br>\n",
    "- Convert Medium Users into Heavy Users <br>\n",
    "Analyze what features keep medium users engaged and introduce habit-forming incentives, like streaks, badges, or social sharing.\n",
    "\n",
    "\n",
    "- Send reminders based on behavioral patterns to increase users' engagement with the app.\n",
    "\n",
    "\n",
    "- Target users with high wear but low app activity through A/B-tested re-engagement strategies. These users are primed for activation.\n",
    "\n",
    "\n",
    "- Improve Weight Tracking Setup <br>\n",
    "Conduct user surveys to check users' knowledge on the feature and how they feel about it. <br>\n",
    "Educate users about automatic syncing or integrate more smart scale partnerships.\n",
    "\n",
    "\n",
    "- Promote Morning Activity for Better Sleep <br>\n",
    "Leverage insights showing morning activity is linked to better sleep efficiency. <br>\n",
    "Introduce wellness challenges or app content encouraging morning movement. <br>\n",
    "Suggest optimal times for workouts or walks based on sleep trends collected passively by the device."
   ]
  },
  {
   "cell_type": "code",
   "execution_count": null,
   "metadata": {},
   "outputs": [],
   "source": []
  }
 ],
 "metadata": {
  "kernelspec": {
   "display_name": "Python 3",
   "language": "python",
   "name": "python3"
  },
  "language_info": {
   "codemirror_mode": {
    "name": "ipython",
    "version": 3
   },
   "file_extension": ".py",
   "mimetype": "text/x-python",
   "name": "python",
   "nbconvert_exporter": "python",
   "pygments_lexer": "ipython3",
   "version": "3.7.9"
  }
 },
 "nbformat": 4,
 "nbformat_minor": 4
}
